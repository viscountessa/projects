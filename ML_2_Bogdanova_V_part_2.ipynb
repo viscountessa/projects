{
  "nbformat": 4,
  "nbformat_minor": 0,
  "metadata": {
    "colab": {
      "provenance": []
    },
    "kernelspec": {
      "name": "python3",
      "display_name": "Python 3"
    },
    "language_info": {
      "name": "python"
    }
  },
  "cells": [
    {
      "cell_type": "markdown",
      "source": [
        "**Задача 2. Сравнение методов классификации**"
      ],
      "metadata": {
        "id": "aa6vrVBg6RXB"
      }
    },
    {
      "cell_type": "markdown",
      "source": [
        "Самостоятельно реализовать один из методов классификации, с возможностью настройки гиперпараметров."
      ],
      "metadata": {
        "id": "z9XLvgqF6mKw"
      }
    },
    {
      "cell_type": "code",
      "source": [
        "import numpy as np \n",
        "import pandas as pd\n",
        "import matplotlib.pyplot as plt\n",
        "%matplotlib inline\n",
        "import seaborn as sns\n",
        "\n",
        "from sklearn.linear_model import LinearRegression\n",
        "from sklearn.model_selection import train_test_split\n",
        "from sklearn.preprocessing import StandardScaler\n",
        "from sklearn.linear_model import Ridge\n",
        "from sklearn.metrics import mean_squared_error, r2_score\n",
        "from sklearn.model_selection import cross_val_score\n",
        "from sklearn.model_selection import GridSearchCV\n",
        "from sklearn.pipeline import Pipeline\n",
        "from math import sqrt\n",
        "from sklearn.linear_model import LogisticRegression\n",
        "from sklearn.feature_selection import RFE\n",
        "from sklearn.feature_selection import RFECV\n",
        "from sklearn.neighbors import KNeighborsClassifier\n",
        "from sklearn.svm import SVC\n",
        "from sklearn.naive_bayes import GaussianNB\n",
        "from sklearn.tree import DecisionTreeClassifier\n",
        "from sklearn.metrics import accuracy_score, classification_report, precision_score, recall_score \n",
        "from sklearn.metrics import confusion_matrix, precision_recall_curve, roc_curve, auc, log_loss\n",
        "\n",
        "from sklearn import model_selection\n",
        "from matplotlib.colors import ListedColormap\n",
        "\n",
        "import warnings\n",
        "warnings.filterwarnings('ignore')  # отключаем предупреждения"
      ],
      "metadata": {
        "id": "rfiPILKj6RtR"
      },
      "execution_count": 1,
      "outputs": []
    },
    {
      "cell_type": "markdown",
      "source": [
        "Используем евклидову метрику. Реализуем функцию для ее подсчета."
      ],
      "metadata": {
        "id": "3B5APMEl8fw6"
      }
    },
    {
      "cell_type": "code",
      "source": [
        "def e_metrics(x1, x2):\n",
        "    return np.sqrt(np.sum((x2-x1)**2))"
      ],
      "metadata": {
        "id": "Dv6X9MBx8gIA"
      },
      "execution_count": 2,
      "outputs": []
    },
    {
      "cell_type": "markdown",
      "source": [
        "Реализуем алгоритм поиска k ближайших соседей."
      ],
      "metadata": {
        "id": "fDhKCEyE8lzj"
      }
    },
    {
      "cell_type": "code",
      "source": [
        "def knn_(x_train, y_train, x_test, k):\n",
        "    \n",
        "    X_train_np=X_train.to_numpy()\n",
        "    X_test_np=X_test.to_numpy()\n",
        "    y_train_np=y_train.to_numpy()\n",
        "    answers = []\n",
        "    for x in X_test_np:\n",
        "        test_distances = []\n",
        "            \n",
        "        for i in range(len(X_train_np)):\n",
        "            \n",
        "            # расчет расстояния от классифицируемого объекта до\n",
        "            # объекта обучающей выборки\n",
        "            distance = e_metrics(x, X_train_np[i])\n",
        "            \n",
        "            # Записываем в список значение расстояния и ответа на объекте обучающей выборки\n",
        "            test_distances.append((distance, y_train_np[i]))\n",
        "        \n",
        "        # создаем словарь со всеми возможными классами\n",
        "        classes = {class_item: 0 for class_item in set(y_train_np)}\n",
        "        \n",
        "        # Сортируем список и среди первых k элементов подсчитаем частоту появления разных классов\n",
        "        for d in sorted(test_distances)[0:k]:\n",
        "            classes[d[1]] += 1\n",
        "            \n",
        "        # Записываем в список ответов наиболее часто встречающийся класс\n",
        "        answers.append(sorted(classes, key=classes.get)[-1])\n",
        "    return answers"
      ],
      "metadata": {
        "id": "86DXv10A8jPF"
      },
      "execution_count": 3,
      "outputs": []
    },
    {
      "cell_type": "markdown",
      "source": [
        "Напишем функцию для вычисления точности"
      ],
      "metadata": {
        "id": "0dFJMeVk9JMA"
      }
    },
    {
      "cell_type": "code",
      "source": [
        "def accuracy(pred, y):\n",
        "    return (sum(pred == y) / len(y))"
      ],
      "metadata": {
        "id": "eu8M7Er49Je2"
      },
      "execution_count": 4,
      "outputs": []
    },
    {
      "cell_type": "markdown",
      "source": [
        "Функция для подбора гиперпараметра k для алгоритма knn"
      ],
      "metadata": {
        "id": "BnZd3Zmc-HHV"
      }
    },
    {
      "cell_type": "code",
      "source": [
        "def selection_k(x_train, y_train, x_test, k_):\n",
        "  accur = []\n",
        "  for k in k_: \n",
        "    y_pred = knn_(X_train, y_train, X_test, k)\n",
        "    acc = accuracy(y_pred, y_test)\n",
        "    accur.append(acc)\n",
        "    print(f'Точность алгоритма при k = {k}: {acc:.3f}')\n",
        "  return max(accur)"
      ],
      "metadata": {
        "id": "juvXf5IR9Me5"
      },
      "execution_count": 5,
      "outputs": []
    },
    {
      "cell_type": "markdown",
      "source": [
        "Считать данные, выполнить первичный анализ данных, при необходимости произвести чистку данных (Data Cleaning)."
      ],
      "metadata": {
        "id": "62_HMVrEDJm9"
      }
    },
    {
      "cell_type": "markdown",
      "source": [
        "Прогнозирования инсульта"
      ],
      "metadata": {
        "id": "cNqiWqsZrGxw"
      }
    },
    {
      "cell_type": "markdown",
      "source": [
        "* id: уникальный идентификатор\n",
        "*  пол: \"Мужской\", \"Женский\" или \"Другой\"\n",
        "*  возраст: возраст пациента\n",
        "*  гипертония: 0, если у пациента нет гипертонии, 1, если у пациента гипертония\n",
        "*  heart_disease: 0, если у пациента нет заболеваний сердца, 1, если у пациента есть заболевание сердца\n",
        "*  ever_married: \"Нет\" или \"Да\"\n",
        "*  work_type: \"детский\", \"государственный\", \"никогда не работавший\", \"частный\" или \"самозанятый\"\n",
        "*  Residence_type: \"Сельская\" или \"Городская\"\n",
        "*  avg_glucose_level: средний уровень глюкозы в крови\n",
        "*  ИМТ: индекс массы тела\n",
        "*  smoke_status: \"ранее курил\", \"никогда не курил\", \"курит\" или \"неизвестно\"*\n",
        "*  stroke: 1, если у пациента был инсульт или 0, если нет (target)\n",
        "*Примечание: «Неизвестно» в курении_статуса означает, что информация для этого пациента недоступна."
      ],
      "metadata": {
        "id": "NvBemYLIqSQ6"
      }
    },
    {
      "cell_type": "markdown",
      "source": [
        "Необходимо решить задачу классификации и научиться предсказывать целовой признак target имеет ли пациент инсульт."
      ],
      "metadata": {
        "id": "T2URKiFUGi9b"
      }
    },
    {
      "cell_type": "code",
      "source": [
        "df = pd.read_csv(\"healthcare-dataset-stroke-data.csv\")"
      ],
      "metadata": {
        "id": "0CXMJmDrBWHv"
      },
      "execution_count": 6,
      "outputs": []
    },
    {
      "cell_type": "code",
      "source": [
        "df.head()"
      ],
      "metadata": {
        "colab": {
          "base_uri": "https://localhost:8080/",
          "height": 206
        },
        "id": "xW9BbJTfDa-U",
        "outputId": "9ccdb6dd-09c1-4467-f503-fa427eacf70e"
      },
      "execution_count": 7,
      "outputs": [
        {
          "output_type": "execute_result",
          "data": {
            "text/plain": [
              "      id  gender   age  hypertension  heart_disease ever_married  \\\n",
              "0   9046    Male  67.0             0              1          Yes   \n",
              "1  51676  Female  61.0             0              0          Yes   \n",
              "2  31112    Male  80.0             0              1          Yes   \n",
              "3  60182  Female  49.0             0              0          Yes   \n",
              "4   1665  Female  79.0             1              0          Yes   \n",
              "\n",
              "       work_type Residence_type  avg_glucose_level   bmi   smoking_status  \\\n",
              "0        Private          Urban             228.69  36.6  formerly smoked   \n",
              "1  Self-employed          Rural             202.21   NaN     never smoked   \n",
              "2        Private          Rural             105.92  32.5     never smoked   \n",
              "3        Private          Urban             171.23  34.4           smokes   \n",
              "4  Self-employed          Rural             174.12  24.0     never smoked   \n",
              "\n",
              "   stroke  \n",
              "0       1  \n",
              "1       1  \n",
              "2       1  \n",
              "3       1  \n",
              "4       1  "
            ],
            "text/html": [
              "\n",
              "  <div id=\"df-8a405729-e47c-448e-8d29-33adda5f1c77\">\n",
              "    <div class=\"colab-df-container\">\n",
              "      <div>\n",
              "<style scoped>\n",
              "    .dataframe tbody tr th:only-of-type {\n",
              "        vertical-align: middle;\n",
              "    }\n",
              "\n",
              "    .dataframe tbody tr th {\n",
              "        vertical-align: top;\n",
              "    }\n",
              "\n",
              "    .dataframe thead th {\n",
              "        text-align: right;\n",
              "    }\n",
              "</style>\n",
              "<table border=\"1\" class=\"dataframe\">\n",
              "  <thead>\n",
              "    <tr style=\"text-align: right;\">\n",
              "      <th></th>\n",
              "      <th>id</th>\n",
              "      <th>gender</th>\n",
              "      <th>age</th>\n",
              "      <th>hypertension</th>\n",
              "      <th>heart_disease</th>\n",
              "      <th>ever_married</th>\n",
              "      <th>work_type</th>\n",
              "      <th>Residence_type</th>\n",
              "      <th>avg_glucose_level</th>\n",
              "      <th>bmi</th>\n",
              "      <th>smoking_status</th>\n",
              "      <th>stroke</th>\n",
              "    </tr>\n",
              "  </thead>\n",
              "  <tbody>\n",
              "    <tr>\n",
              "      <th>0</th>\n",
              "      <td>9046</td>\n",
              "      <td>Male</td>\n",
              "      <td>67.0</td>\n",
              "      <td>0</td>\n",
              "      <td>1</td>\n",
              "      <td>Yes</td>\n",
              "      <td>Private</td>\n",
              "      <td>Urban</td>\n",
              "      <td>228.69</td>\n",
              "      <td>36.6</td>\n",
              "      <td>formerly smoked</td>\n",
              "      <td>1</td>\n",
              "    </tr>\n",
              "    <tr>\n",
              "      <th>1</th>\n",
              "      <td>51676</td>\n",
              "      <td>Female</td>\n",
              "      <td>61.0</td>\n",
              "      <td>0</td>\n",
              "      <td>0</td>\n",
              "      <td>Yes</td>\n",
              "      <td>Self-employed</td>\n",
              "      <td>Rural</td>\n",
              "      <td>202.21</td>\n",
              "      <td>NaN</td>\n",
              "      <td>never smoked</td>\n",
              "      <td>1</td>\n",
              "    </tr>\n",
              "    <tr>\n",
              "      <th>2</th>\n",
              "      <td>31112</td>\n",
              "      <td>Male</td>\n",
              "      <td>80.0</td>\n",
              "      <td>0</td>\n",
              "      <td>1</td>\n",
              "      <td>Yes</td>\n",
              "      <td>Private</td>\n",
              "      <td>Rural</td>\n",
              "      <td>105.92</td>\n",
              "      <td>32.5</td>\n",
              "      <td>never smoked</td>\n",
              "      <td>1</td>\n",
              "    </tr>\n",
              "    <tr>\n",
              "      <th>3</th>\n",
              "      <td>60182</td>\n",
              "      <td>Female</td>\n",
              "      <td>49.0</td>\n",
              "      <td>0</td>\n",
              "      <td>0</td>\n",
              "      <td>Yes</td>\n",
              "      <td>Private</td>\n",
              "      <td>Urban</td>\n",
              "      <td>171.23</td>\n",
              "      <td>34.4</td>\n",
              "      <td>smokes</td>\n",
              "      <td>1</td>\n",
              "    </tr>\n",
              "    <tr>\n",
              "      <th>4</th>\n",
              "      <td>1665</td>\n",
              "      <td>Female</td>\n",
              "      <td>79.0</td>\n",
              "      <td>1</td>\n",
              "      <td>0</td>\n",
              "      <td>Yes</td>\n",
              "      <td>Self-employed</td>\n",
              "      <td>Rural</td>\n",
              "      <td>174.12</td>\n",
              "      <td>24.0</td>\n",
              "      <td>never smoked</td>\n",
              "      <td>1</td>\n",
              "    </tr>\n",
              "  </tbody>\n",
              "</table>\n",
              "</div>\n",
              "      <button class=\"colab-df-convert\" onclick=\"convertToInteractive('df-8a405729-e47c-448e-8d29-33adda5f1c77')\"\n",
              "              title=\"Convert this dataframe to an interactive table.\"\n",
              "              style=\"display:none;\">\n",
              "        \n",
              "  <svg xmlns=\"http://www.w3.org/2000/svg\" height=\"24px\"viewBox=\"0 0 24 24\"\n",
              "       width=\"24px\">\n",
              "    <path d=\"M0 0h24v24H0V0z\" fill=\"none\"/>\n",
              "    <path d=\"M18.56 5.44l.94 2.06.94-2.06 2.06-.94-2.06-.94-.94-2.06-.94 2.06-2.06.94zm-11 1L8.5 8.5l.94-2.06 2.06-.94-2.06-.94L8.5 2.5l-.94 2.06-2.06.94zm10 10l.94 2.06.94-2.06 2.06-.94-2.06-.94-.94-2.06-.94 2.06-2.06.94z\"/><path d=\"M17.41 7.96l-1.37-1.37c-.4-.4-.92-.59-1.43-.59-.52 0-1.04.2-1.43.59L10.3 9.45l-7.72 7.72c-.78.78-.78 2.05 0 2.83L4 21.41c.39.39.9.59 1.41.59.51 0 1.02-.2 1.41-.59l7.78-7.78 2.81-2.81c.8-.78.8-2.07 0-2.86zM5.41 20L4 18.59l7.72-7.72 1.47 1.35L5.41 20z\"/>\n",
              "  </svg>\n",
              "      </button>\n",
              "      \n",
              "  <style>\n",
              "    .colab-df-container {\n",
              "      display:flex;\n",
              "      flex-wrap:wrap;\n",
              "      gap: 12px;\n",
              "    }\n",
              "\n",
              "    .colab-df-convert {\n",
              "      background-color: #E8F0FE;\n",
              "      border: none;\n",
              "      border-radius: 50%;\n",
              "      cursor: pointer;\n",
              "      display: none;\n",
              "      fill: #1967D2;\n",
              "      height: 32px;\n",
              "      padding: 0 0 0 0;\n",
              "      width: 32px;\n",
              "    }\n",
              "\n",
              "    .colab-df-convert:hover {\n",
              "      background-color: #E2EBFA;\n",
              "      box-shadow: 0px 1px 2px rgba(60, 64, 67, 0.3), 0px 1px 3px 1px rgba(60, 64, 67, 0.15);\n",
              "      fill: #174EA6;\n",
              "    }\n",
              "\n",
              "    [theme=dark] .colab-df-convert {\n",
              "      background-color: #3B4455;\n",
              "      fill: #D2E3FC;\n",
              "    }\n",
              "\n",
              "    [theme=dark] .colab-df-convert:hover {\n",
              "      background-color: #434B5C;\n",
              "      box-shadow: 0px 1px 3px 1px rgba(0, 0, 0, 0.15);\n",
              "      filter: drop-shadow(0px 1px 2px rgba(0, 0, 0, 0.3));\n",
              "      fill: #FFFFFF;\n",
              "    }\n",
              "  </style>\n",
              "\n",
              "      <script>\n",
              "        const buttonEl =\n",
              "          document.querySelector('#df-8a405729-e47c-448e-8d29-33adda5f1c77 button.colab-df-convert');\n",
              "        buttonEl.style.display =\n",
              "          google.colab.kernel.accessAllowed ? 'block' : 'none';\n",
              "\n",
              "        async function convertToInteractive(key) {\n",
              "          const element = document.querySelector('#df-8a405729-e47c-448e-8d29-33adda5f1c77');\n",
              "          const dataTable =\n",
              "            await google.colab.kernel.invokeFunction('convertToInteractive',\n",
              "                                                     [key], {});\n",
              "          if (!dataTable) return;\n",
              "\n",
              "          const docLinkHtml = 'Like what you see? Visit the ' +\n",
              "            '<a target=\"_blank\" href=https://colab.research.google.com/notebooks/data_table.ipynb>data table notebook</a>'\n",
              "            + ' to learn more about interactive tables.';\n",
              "          element.innerHTML = '';\n",
              "          dataTable['output_type'] = 'display_data';\n",
              "          await google.colab.output.renderOutput(dataTable, element);\n",
              "          const docLink = document.createElement('div');\n",
              "          docLink.innerHTML = docLinkHtml;\n",
              "          element.appendChild(docLink);\n",
              "        }\n",
              "      </script>\n",
              "    </div>\n",
              "  </div>\n",
              "  "
            ]
          },
          "metadata": {},
          "execution_count": 7
        }
      ]
    },
    {
      "cell_type": "code",
      "source": [
        "df.shape"
      ],
      "metadata": {
        "colab": {
          "base_uri": "https://localhost:8080/",
          "height": 0
        },
        "id": "X6prd0JcDn0M",
        "outputId": "404378b4-d4c8-4cf5-b208-274914c02ce6"
      },
      "execution_count": 8,
      "outputs": [
        {
          "output_type": "execute_result",
          "data": {
            "text/plain": [
              "(5110, 12)"
            ]
          },
          "metadata": {},
          "execution_count": 8
        }
      ]
    },
    {
      "cell_type": "code",
      "source": [
        "df.info()"
      ],
      "metadata": {
        "colab": {
          "base_uri": "https://localhost:8080/",
          "height": 0
        },
        "id": "XcMuf2DdEI5I",
        "outputId": "1da8d04d-28a6-4424-88e8-0502840c15e9"
      },
      "execution_count": 9,
      "outputs": [
        {
          "output_type": "stream",
          "name": "stdout",
          "text": [
            "<class 'pandas.core.frame.DataFrame'>\n",
            "RangeIndex: 5110 entries, 0 to 5109\n",
            "Data columns (total 12 columns):\n",
            " #   Column             Non-Null Count  Dtype  \n",
            "---  ------             --------------  -----  \n",
            " 0   id                 5110 non-null   int64  \n",
            " 1   gender             5110 non-null   object \n",
            " 2   age                5110 non-null   float64\n",
            " 3   hypertension       5110 non-null   int64  \n",
            " 4   heart_disease      5110 non-null   int64  \n",
            " 5   ever_married       5110 non-null   object \n",
            " 6   work_type          5110 non-null   object \n",
            " 7   Residence_type     5110 non-null   object \n",
            " 8   avg_glucose_level  5110 non-null   float64\n",
            " 9   bmi                4909 non-null   float64\n",
            " 10  smoking_status     5110 non-null   object \n",
            " 11  stroke             5110 non-null   int64  \n",
            "dtypes: float64(3), int64(4), object(5)\n",
            "memory usage: 479.2+ KB\n"
          ]
        }
      ]
    },
    {
      "cell_type": "markdown",
      "source": [
        "Выполнить разведочный анализ (EDA), использовать визуализацию, сделать выводы, которые могут быть полезны при дальнейшем решении задачи классификации."
      ],
      "metadata": {
        "id": "RoAHENU_EbWB"
      }
    },
    {
      "cell_type": "code",
      "source": [
        "df.describe().T"
      ],
      "metadata": {
        "colab": {
          "base_uri": "https://localhost:8080/",
          "height": 269
        },
        "id": "720IWOcMELM2",
        "outputId": "fd8e2e63-6c78-42f9-dfa0-e3d14fa335d5"
      },
      "execution_count": 10,
      "outputs": [
        {
          "output_type": "execute_result",
          "data": {
            "text/plain": [
              "                    count          mean           std    min        25%  \\\n",
              "id                 5110.0  36517.829354  21161.721625  67.00  17741.250   \n",
              "age                5110.0     43.226614     22.612647   0.08     25.000   \n",
              "hypertension       5110.0      0.097456      0.296607   0.00      0.000   \n",
              "heart_disease      5110.0      0.054012      0.226063   0.00      0.000   \n",
              "avg_glucose_level  5110.0    106.147677     45.283560  55.12     77.245   \n",
              "bmi                4909.0     28.893237      7.854067  10.30     23.500   \n",
              "stroke             5110.0      0.048728      0.215320   0.00      0.000   \n",
              "\n",
              "                         50%       75%       max  \n",
              "id                 36932.000  54682.00  72940.00  \n",
              "age                   45.000     61.00     82.00  \n",
              "hypertension           0.000      0.00      1.00  \n",
              "heart_disease          0.000      0.00      1.00  \n",
              "avg_glucose_level     91.885    114.09    271.74  \n",
              "bmi                   28.100     33.10     97.60  \n",
              "stroke                 0.000      0.00      1.00  "
            ],
            "text/html": [
              "\n",
              "  <div id=\"df-0b335768-a12e-440c-8dc0-cbf255b94d48\">\n",
              "    <div class=\"colab-df-container\">\n",
              "      <div>\n",
              "<style scoped>\n",
              "    .dataframe tbody tr th:only-of-type {\n",
              "        vertical-align: middle;\n",
              "    }\n",
              "\n",
              "    .dataframe tbody tr th {\n",
              "        vertical-align: top;\n",
              "    }\n",
              "\n",
              "    .dataframe thead th {\n",
              "        text-align: right;\n",
              "    }\n",
              "</style>\n",
              "<table border=\"1\" class=\"dataframe\">\n",
              "  <thead>\n",
              "    <tr style=\"text-align: right;\">\n",
              "      <th></th>\n",
              "      <th>count</th>\n",
              "      <th>mean</th>\n",
              "      <th>std</th>\n",
              "      <th>min</th>\n",
              "      <th>25%</th>\n",
              "      <th>50%</th>\n",
              "      <th>75%</th>\n",
              "      <th>max</th>\n",
              "    </tr>\n",
              "  </thead>\n",
              "  <tbody>\n",
              "    <tr>\n",
              "      <th>id</th>\n",
              "      <td>5110.0</td>\n",
              "      <td>36517.829354</td>\n",
              "      <td>21161.721625</td>\n",
              "      <td>67.00</td>\n",
              "      <td>17741.250</td>\n",
              "      <td>36932.000</td>\n",
              "      <td>54682.00</td>\n",
              "      <td>72940.00</td>\n",
              "    </tr>\n",
              "    <tr>\n",
              "      <th>age</th>\n",
              "      <td>5110.0</td>\n",
              "      <td>43.226614</td>\n",
              "      <td>22.612647</td>\n",
              "      <td>0.08</td>\n",
              "      <td>25.000</td>\n",
              "      <td>45.000</td>\n",
              "      <td>61.00</td>\n",
              "      <td>82.00</td>\n",
              "    </tr>\n",
              "    <tr>\n",
              "      <th>hypertension</th>\n",
              "      <td>5110.0</td>\n",
              "      <td>0.097456</td>\n",
              "      <td>0.296607</td>\n",
              "      <td>0.00</td>\n",
              "      <td>0.000</td>\n",
              "      <td>0.000</td>\n",
              "      <td>0.00</td>\n",
              "      <td>1.00</td>\n",
              "    </tr>\n",
              "    <tr>\n",
              "      <th>heart_disease</th>\n",
              "      <td>5110.0</td>\n",
              "      <td>0.054012</td>\n",
              "      <td>0.226063</td>\n",
              "      <td>0.00</td>\n",
              "      <td>0.000</td>\n",
              "      <td>0.000</td>\n",
              "      <td>0.00</td>\n",
              "      <td>1.00</td>\n",
              "    </tr>\n",
              "    <tr>\n",
              "      <th>avg_glucose_level</th>\n",
              "      <td>5110.0</td>\n",
              "      <td>106.147677</td>\n",
              "      <td>45.283560</td>\n",
              "      <td>55.12</td>\n",
              "      <td>77.245</td>\n",
              "      <td>91.885</td>\n",
              "      <td>114.09</td>\n",
              "      <td>271.74</td>\n",
              "    </tr>\n",
              "    <tr>\n",
              "      <th>bmi</th>\n",
              "      <td>4909.0</td>\n",
              "      <td>28.893237</td>\n",
              "      <td>7.854067</td>\n",
              "      <td>10.30</td>\n",
              "      <td>23.500</td>\n",
              "      <td>28.100</td>\n",
              "      <td>33.10</td>\n",
              "      <td>97.60</td>\n",
              "    </tr>\n",
              "    <tr>\n",
              "      <th>stroke</th>\n",
              "      <td>5110.0</td>\n",
              "      <td>0.048728</td>\n",
              "      <td>0.215320</td>\n",
              "      <td>0.00</td>\n",
              "      <td>0.000</td>\n",
              "      <td>0.000</td>\n",
              "      <td>0.00</td>\n",
              "      <td>1.00</td>\n",
              "    </tr>\n",
              "  </tbody>\n",
              "</table>\n",
              "</div>\n",
              "      <button class=\"colab-df-convert\" onclick=\"convertToInteractive('df-0b335768-a12e-440c-8dc0-cbf255b94d48')\"\n",
              "              title=\"Convert this dataframe to an interactive table.\"\n",
              "              style=\"display:none;\">\n",
              "        \n",
              "  <svg xmlns=\"http://www.w3.org/2000/svg\" height=\"24px\"viewBox=\"0 0 24 24\"\n",
              "       width=\"24px\">\n",
              "    <path d=\"M0 0h24v24H0V0z\" fill=\"none\"/>\n",
              "    <path d=\"M18.56 5.44l.94 2.06.94-2.06 2.06-.94-2.06-.94-.94-2.06-.94 2.06-2.06.94zm-11 1L8.5 8.5l.94-2.06 2.06-.94-2.06-.94L8.5 2.5l-.94 2.06-2.06.94zm10 10l.94 2.06.94-2.06 2.06-.94-2.06-.94-.94-2.06-.94 2.06-2.06.94z\"/><path d=\"M17.41 7.96l-1.37-1.37c-.4-.4-.92-.59-1.43-.59-.52 0-1.04.2-1.43.59L10.3 9.45l-7.72 7.72c-.78.78-.78 2.05 0 2.83L4 21.41c.39.39.9.59 1.41.59.51 0 1.02-.2 1.41-.59l7.78-7.78 2.81-2.81c.8-.78.8-2.07 0-2.86zM5.41 20L4 18.59l7.72-7.72 1.47 1.35L5.41 20z\"/>\n",
              "  </svg>\n",
              "      </button>\n",
              "      \n",
              "  <style>\n",
              "    .colab-df-container {\n",
              "      display:flex;\n",
              "      flex-wrap:wrap;\n",
              "      gap: 12px;\n",
              "    }\n",
              "\n",
              "    .colab-df-convert {\n",
              "      background-color: #E8F0FE;\n",
              "      border: none;\n",
              "      border-radius: 50%;\n",
              "      cursor: pointer;\n",
              "      display: none;\n",
              "      fill: #1967D2;\n",
              "      height: 32px;\n",
              "      padding: 0 0 0 0;\n",
              "      width: 32px;\n",
              "    }\n",
              "\n",
              "    .colab-df-convert:hover {\n",
              "      background-color: #E2EBFA;\n",
              "      box-shadow: 0px 1px 2px rgba(60, 64, 67, 0.3), 0px 1px 3px 1px rgba(60, 64, 67, 0.15);\n",
              "      fill: #174EA6;\n",
              "    }\n",
              "\n",
              "    [theme=dark] .colab-df-convert {\n",
              "      background-color: #3B4455;\n",
              "      fill: #D2E3FC;\n",
              "    }\n",
              "\n",
              "    [theme=dark] .colab-df-convert:hover {\n",
              "      background-color: #434B5C;\n",
              "      box-shadow: 0px 1px 3px 1px rgba(0, 0, 0, 0.15);\n",
              "      filter: drop-shadow(0px 1px 2px rgba(0, 0, 0, 0.3));\n",
              "      fill: #FFFFFF;\n",
              "    }\n",
              "  </style>\n",
              "\n",
              "      <script>\n",
              "        const buttonEl =\n",
              "          document.querySelector('#df-0b335768-a12e-440c-8dc0-cbf255b94d48 button.colab-df-convert');\n",
              "        buttonEl.style.display =\n",
              "          google.colab.kernel.accessAllowed ? 'block' : 'none';\n",
              "\n",
              "        async function convertToInteractive(key) {\n",
              "          const element = document.querySelector('#df-0b335768-a12e-440c-8dc0-cbf255b94d48');\n",
              "          const dataTable =\n",
              "            await google.colab.kernel.invokeFunction('convertToInteractive',\n",
              "                                                     [key], {});\n",
              "          if (!dataTable) return;\n",
              "\n",
              "          const docLinkHtml = 'Like what you see? Visit the ' +\n",
              "            '<a target=\"_blank\" href=https://colab.research.google.com/notebooks/data_table.ipynb>data table notebook</a>'\n",
              "            + ' to learn more about interactive tables.';\n",
              "          element.innerHTML = '';\n",
              "          dataTable['output_type'] = 'display_data';\n",
              "          await google.colab.output.renderOutput(dataTable, element);\n",
              "          const docLink = document.createElement('div');\n",
              "          docLink.innerHTML = docLinkHtml;\n",
              "          element.appendChild(docLink);\n",
              "        }\n",
              "      </script>\n",
              "    </div>\n",
              "  </div>\n",
              "  "
            ]
          },
          "metadata": {},
          "execution_count": 10
        }
      ]
    },
    {
      "cell_type": "code",
      "source": [
        "df.stroke.value_counts()"
      ],
      "metadata": {
        "colab": {
          "base_uri": "https://localhost:8080/",
          "height": 0
        },
        "id": "AaXJ_j-BG0FN",
        "outputId": "f8b4f1a9-e9be-48a3-efe1-4c08c29abd6b"
      },
      "execution_count": 11,
      "outputs": [
        {
          "output_type": "execute_result",
          "data": {
            "text/plain": [
              "0    4861\n",
              "1     249\n",
              "Name: stroke, dtype: int64"
            ]
          },
          "metadata": {},
          "execution_count": 11
        }
      ]
    },
    {
      "cell_type": "code",
      "source": [
        "sns.countplot(x=\"stroke\", data=df)\n",
        "plt.show()"
      ],
      "metadata": {
        "colab": {
          "base_uri": "https://localhost:8080/",
          "height": 279
        },
        "id": "eaeyjqYzHHvN",
        "outputId": "19440fee-1d87-4c07-8b0a-f3bed450c705"
      },
      "execution_count": 12,
      "outputs": [
        {
          "output_type": "display_data",
          "data": {
            "text/plain": [
              "<Figure size 432x288 with 1 Axes>"
            ],
            "image/png": "[encoded data removed]"
          },
          "metadata": {
            "needs_background": "light"
          }
        }
      ]
    },
    {
      "cell_type": "markdown",
      "source": [
        "Из данных видно что целевая переменная НЕ сбалансирована. Возможно, при обучении необходимо будет использовать балансировку классов."
      ],
      "metadata": {
        "id": "i7J1040bHXqU"
      }
    },
    {
      "cell_type": "code",
      "source": [
        "df_num_features = df.select_dtypes(include=['float64', 'int64'])"
      ],
      "metadata": {
        "id": "_TNXu2geHpun"
      },
      "execution_count": 13,
      "outputs": []
    },
    {
      "cell_type": "code",
      "source": [
        "df_num_features.hist(figsize=(16,16), bins=20, grid=False)"
      ],
      "metadata": {
        "colab": {
          "base_uri": "https://localhost:8080/",
          "height": 1000
        },
        "id": "dXOUy2_MHLBn",
        "outputId": "9a6f4c65-26fc-4409-f145-7100aa646820"
      },
      "execution_count": 14,
      "outputs": [
        {
          "output_type": "execute_result",
          "data": {
            "text/plain": [
              "array([[<matplotlib.axes._subplots.AxesSubplot object at 0x7fac19925ed0>,\n",
              "        <matplotlib.axes._subplots.AxesSubplot object at 0x7fac198e24d0>,\n",
              "        <matplotlib.axes._subplots.AxesSubplot object at 0x7fac19899ad0>],\n",
              "       [<matplotlib.axes._subplots.AxesSubplot object at 0x7fac1985b110>,\n",
              "        <matplotlib.axes._subplots.AxesSubplot object at 0x7fac19812710>,\n",
              "        <matplotlib.axes._subplots.AxesSubplot object at 0x7fac197c9cd0>],\n",
              "       [<matplotlib.axes._subplots.AxesSubplot object at 0x7fac1978d390>,\n",
              "        <matplotlib.axes._subplots.AxesSubplot object at 0x7fac197448d0>,\n",
              "        <matplotlib.axes._subplots.AxesSubplot object at 0x7fac19744910>]],\n",
              "      dtype=object)"
            ]
          },
          "metadata": {},
          "execution_count": 14
        },
        {
          "output_type": "display_data",
          "data": {
            "text/plain": [
              "<Figure size 1152x1152 with 9 Axes>"
            ],
            "image/png": "[encoded data removed]"
          },
          "metadata": {
            "needs_background": "light"
          }
        }
      ]
    },
    {
      "cell_type": "code",
      "source": [
        "for cat_colname in df.select_dtypes(include='object').columns:\n",
        "    print(str(cat_colname) + '\\n\\n' + str(df[cat_colname].value_counts()) + '\\n' + '*' * 100 + '\\n')"
      ],
      "metadata": {
        "colab": {
          "base_uri": "https://localhost:8080/",
          "height": 0
        },
        "id": "H5miaIlKxUy_",
        "outputId": "0af9b7db-cb0a-49ed-84c1-db61d0777475"
      },
      "execution_count": 15,
      "outputs": [
        {
          "output_type": "stream",
          "name": "stdout",
          "text": [
            "gender\n",
            "\n",
            "Female    2994\n",
            "Male      2115\n",
            "Other        1\n",
            "Name: gender, dtype: int64\n",
            "****************************************************************************************************\n",
            "\n",
            "ever_married\n",
            "\n",
            "Yes    3353\n",
            "No     1757\n",
            "Name: ever_married, dtype: int64\n",
            "****************************************************************************************************\n",
            "\n",
            "work_type\n",
            "\n",
            "Private          2925\n",
            "Self-employed     819\n",
            "children          687\n",
            "Govt_job          657\n",
            "Never_worked       22\n",
            "Name: work_type, dtype: int64\n",
            "****************************************************************************************************\n",
            "\n",
            "Residence_type\n",
            "\n",
            "Urban    2596\n",
            "Rural    2514\n",
            "Name: Residence_type, dtype: int64\n",
            "****************************************************************************************************\n",
            "\n",
            "smoking_status\n",
            "\n",
            "never smoked       1892\n",
            "Unknown            1544\n",
            "formerly smoked     885\n",
            "smokes              789\n",
            "Name: smoking_status, dtype: int64\n",
            "****************************************************************************************************\n",
            "\n"
          ]
        }
      ]
    },
    {
      "cell_type": "markdown",
      "source": [
        "Из распределения значений категориальных переменных видно что необходимо поработать с признаком \"gender\"."
      ],
      "metadata": {
        "id": "xb9Ak1gyxqU4"
      }
    },
    {
      "cell_type": "code",
      "source": [
        "pd.crosstab(df.age,df.stroke).plot(kind=\"bar\", figsize=(20, 6))\n",
        "plt.title('Stroke for Ages')\n",
        "plt.xlabel('Age')\n",
        "plt.ylabel('Stroke')\n",
        "plt.show()"
      ],
      "metadata": {
        "colab": {
          "base_uri": "https://localhost:8080/",
          "height": 416
        },
        "id": "oSbauf5oJx0P",
        "outputId": "bbe88340-fc9e-4fea-e6a5-9b53736a27e7"
      },
      "execution_count": 17,
      "outputs": [
        {
          "output_type": "display_data",
          "data": {
            "text/plain": [
              "<Figure size 1440x432 with 1 Axes>"
            ],
            "image/png": "[encoded data removed]"
          },
          "metadata": {
            "needs_background": "light"
          }
        }
      ]
    },
    {
      "cell_type": "markdown",
      "source": [
        "Гистограмма показывает, как целевая переменная (перенесенный инсульт) зависит от возраста пациента. Можно предположить, что с увеличением возраста вероятность возможности инсульта возрастает."
      ],
      "metadata": {
        "id": "qf1bEugYLdme"
      }
    },
    {
      "cell_type": "code",
      "source": [
        "pd.crosstab(df.gender,df.stroke).plot(kind=\"bar\", figsize=(15, 6), color=['#1CA53B', '#AA1111' ])\n",
        "plt.title('Stroke for Gender')\n",
        "plt.xlabel('gender (0 = Female, 1 = Male)')\n",
        "plt.xticks(rotation=0)\n",
        "plt.legend([\"Haven't Disease\", \"Have Disease\"])\n",
        "plt.ylabel('Stroke')\n",
        "plt.show()"
      ],
      "metadata": {
        "colab": {
          "base_uri": "https://localhost:8080/",
          "height": 404
        },
        "id": "UpEicp6QMysw",
        "outputId": "183c1292-7cbd-4665-fcd2-16e6e1394889"
      },
      "execution_count": 24,
      "outputs": [
        {
          "output_type": "display_data",
          "data": {
            "text/plain": [
              "<Figure size 1080x432 with 1 Axes>"
            ],
            "image/png": "[encoded data removed]"
          },
          "metadata": {
            "needs_background": "light"
          }
        }
      ]
    },
    {
      "cell_type": "markdown",
      "source": [
        "Гистограмма показывает, что пол пациента не влияет на наличие заболевания. "
      ],
      "metadata": {
        "id": "mSUofcL4M1L2"
      }
    },
    {
      "cell_type": "code",
      "source": [
        "plt.scatter(x=df.age[df.stroke==1], y=df.bmi[(df.stroke==1)], c=\"red\")\n",
        "plt.scatter(x=df.age[df.stroke==0], y=df.bmi[(df.stroke==0)])\n",
        "plt.legend([\"Disease\", \"Not Disease\"])\n",
        "plt.xlabel(\"Age\")\n",
        "plt.ylabel(\"bmi\")\n",
        "plt.show()"
      ],
      "metadata": {
        "colab": {
          "base_uri": "https://localhost:8080/",
          "height": 279
        },
        "id": "4o0kVDoRNpBJ",
        "outputId": "e5337f24-dda6-440b-83cb-31af422247fb"
      },
      "execution_count": 26,
      "outputs": [
        {
          "output_type": "display_data",
          "data": {
            "text/plain": [
              "<Figure size 432x288 with 1 Axes>"
            ],
            "image/png": "[encoded data removed]"
          },
          "metadata": {
            "needs_background": "light"
          }
        }
      ]
    },
    {
      "cell_type": "markdown",
      "source": [
        "Из графика видно, что уровень индекса массы тела не является однозначным признаком наличия инсульта."
      ],
      "metadata": {
        "id": "eayLW0SgHSEI"
      }
    },
    {
      "cell_type": "code",
      "source": [
        "plt.scatter(x=df.age[df.stroke==1], y=df.avg_glucose_level[(df.stroke==1)], c=\"red\")\n",
        "plt.scatter(x=df.age[df.stroke==0], y=df.avg_glucose_level[(df.stroke==0)])\n",
        "plt.legend([\"Disease\", \"Not Disease\"])\n",
        "plt.xlabel(\"Age\")\n",
        "plt.ylabel(\"avg_glucose_level\")\n",
        "plt.show()"
      ],
      "metadata": {
        "colab": {
          "base_uri": "https://localhost:8080/",
          "height": 279
        },
        "id": "ayDBJ2ZPHGgw",
        "outputId": "935556f2-2fdf-49ec-eee4-5a02ce21c16f"
      },
      "execution_count": 27,
      "outputs": [
        {
          "output_type": "display_data",
          "data": {
            "text/plain": [
              "<Figure size 432x288 with 1 Axes>"
            ],
            "image/png": "[encoded data removed]"
          },
          "metadata": {
            "needs_background": "light"
          }
        }
      ]
    },
    {
      "cell_type": "markdown",
      "source": [
        "Из графика видно, что уровень глюкозы в крови не является однозначным фактором наличия заболевания."
      ],
      "metadata": {
        "id": "Ekj5x73wNr7X"
      }
    },
    {
      "cell_type": "code",
      "source": [
        "plt.scatter(x=df.bmi[df.stroke==1], y=df.avg_glucose_level[(df.stroke==1)], c=\"red\")\n",
        "plt.scatter(x=df.bmi[df.stroke==0], y=df.avg_glucose_level[(df.stroke==0)])\n",
        "plt.legend([\"Disease\", \"Not Disease\"])\n",
        "plt.xlabel(\"bmi\")\n",
        "plt.ylabel(\"avg_glucose_level\")\n",
        "plt.show()"
      ],
      "metadata": {
        "colab": {
          "base_uri": "https://localhost:8080/",
          "height": 279
        },
        "id": "qy4YPuITIPkC",
        "outputId": "b4c31f52-ca69-48fd-c932-13f65e660cbd"
      },
      "execution_count": 28,
      "outputs": [
        {
          "output_type": "display_data",
          "data": {
            "text/plain": [
              "<Figure size 432x288 with 1 Axes>"
            ],
            "image/png": "[encoded data removed]"
          },
          "metadata": {
            "needs_background": "light"
          }
        }
      ]
    },
    {
      "cell_type": "markdown",
      "source": [
        "Из графика видно что однозначной зависимости между индексом массы тела и уровнем глюкозы нет."
      ],
      "metadata": {
        "id": "A93wQklwIc3v"
      }
    },
    {
      "cell_type": "code",
      "source": [
        "pd.crosstab(df.hypertension,df.stroke).plot(kind=\"bar\", figsize=(15, 6), color=['#1CA53B', '#AA1111' ])\n",
        "plt.title('Stroke for hypertension')\n",
        "plt.xlabel('hypertension (0 = No, 1 = Yes)')\n",
        "plt.xticks(rotation=0)\n",
        "plt.legend([\"Haven't Disease\", \"Have Disease\"])\n",
        "plt.ylabel('Stroke')\n",
        "plt.show()"
      ],
      "metadata": {
        "colab": {
          "base_uri": "https://localhost:8080/",
          "height": 404
        },
        "id": "XLASDWF33ewF",
        "outputId": "0b244076-09af-4241-df9f-513fb36d80f1"
      },
      "execution_count": 29,
      "outputs": [
        {
          "output_type": "display_data",
          "data": {
            "text/plain": [
              "<Figure size 1080x432 with 1 Axes>"
            ],
            "image/png": "[encoded data removed]"
          },
          "metadata": {
            "needs_background": "light"
          }
        }
      ]
    },
    {
      "cell_type": "markdown",
      "source": [
        "Из графика видно что инсульту подвержены и пациенты с гипертонией, и без нее. Но, вполне возможно, что эти люди в \"группе риска\"."
      ],
      "metadata": {
        "id": "O5-5rqq1JUFe"
      }
    },
    {
      "cell_type": "code",
      "source": [
        "pd.crosstab(df.Residence_type,df.stroke).plot(kind=\"bar\", figsize=(15, 6), color=['#1CA53B', '#AA1111' ])\n",
        "plt.title('Stroke for Residence_type')\n",
        "plt.xlabel('Residence type (Rural, Urban)')\n",
        "plt.xticks(rotation=0)\n",
        "plt.legend([\"Haven't Disease\", \"Have Disease\"])\n",
        "plt.ylabel('Stroke')\n",
        "plt.show()"
      ],
      "metadata": {
        "colab": {
          "base_uri": "https://localhost:8080/",
          "height": 404
        },
        "id": "pCRxJMhDJ8ik",
        "outputId": "eb18869b-891b-46c8-ec39-b20f07ee527f"
      },
      "execution_count": 30,
      "outputs": [
        {
          "output_type": "display_data",
          "data": {
            "text/plain": [
              "<Figure size 1080x432 with 1 Axes>"
            ],
            "image/png": "[encoded data removed]"
          },
          "metadata": {
            "needs_background": "light"
          }
        }
      ]
    },
    {
      "cell_type": "markdown",
      "source": [
        "Место жительства не имеет прямой зависимости с фактом наличия инсульта."
      ],
      "metadata": {
        "id": "UYJc9m-NKcTi"
      }
    },
    {
      "cell_type": "code",
      "source": [
        "pd.crosstab(df.ever_married,df.stroke).plot(kind=\"bar\", figsize=(15, 6), color=['#1CA53B', '#AA1111' ])\n",
        "plt.title('Stroke for ever_married')\n",
        "plt.xlabel('Residence type (No, Yes)')\n",
        "plt.xticks(rotation=0)\n",
        "plt.legend([\"Haven't Disease\", \"Have Disease\"])\n",
        "plt.ylabel('Stroke')\n",
        "plt.show()"
      ],
      "metadata": {
        "colab": {
          "base_uri": "https://localhost:8080/",
          "height": 404
        },
        "id": "ctwoLuYrKk2o",
        "outputId": "af4d14df-a387-4e2b-c31c-c864afd6e984"
      },
      "execution_count": 31,
      "outputs": [
        {
          "output_type": "display_data",
          "data": {
            "text/plain": [
              "<Figure size 1080x432 with 1 Axes>"
            ],
            "image/png": "[encoded data removed]"
          },
          "metadata": {
            "needs_background": "light"
          }
        }
      ]
    },
    {
      "cell_type": "markdown",
      "source": [
        "Семейное положение также не влияет на целевую переменную."
      ],
      "metadata": {
        "id": "3DctkDhLK2Dg"
      }
    },
    {
      "cell_type": "code",
      "source": [
        "pd.crosstab(df.smoking_status,df.stroke).plot(kind=\"bar\", figsize=(15, 6), color=['#1CA53B', '#AA1111' ])\n",
        "plt.title('Stroke for smoking_status')\n",
        "plt.xlabel('smoking_status (formerly smoked, never smoked, smokes, Unknown)')\n",
        "plt.xticks(rotation=0)\n",
        "plt.legend([\"Haven't Disease\", \"Have Disease\"])\n",
        "plt.ylabel('Stroke')\n",
        "plt.show()"
      ],
      "metadata": {
        "colab": {
          "base_uri": "https://localhost:8080/",
          "height": 405
        },
        "id": "INoyb-A2K_lJ",
        "outputId": "770a4ca0-18e8-46a9-9431-591a5a3f6dfe"
      },
      "execution_count": 32,
      "outputs": [
        {
          "output_type": "display_data",
          "data": {
            "text/plain": [
              "<Figure size 1080x432 with 1 Axes>"
            ],
            "image/png": "[encoded data removed]"
          },
          "metadata": {
            "needs_background": "light"
          }
        }
      ]
    },
    {
      "cell_type": "markdown",
      "source": [
        "Курение(в прошлом и настоящем) может оказывать влияние на факт наличия инсульта."
      ],
      "metadata": {
        "id": "RP9s_nUzLeb2"
      }
    },
    {
      "cell_type": "code",
      "source": [
        "pd.crosstab(df.work_type,df.stroke).plot(kind=\"bar\", figsize=(15, 6), color=['#1CA53B', '#AA1111' ])\n",
        "plt.title('Stroke for work_type')\n",
        "plt.xlabel('work_type (children, Govt_jov, Never_worked, Private, Self-employed)')\n",
        "plt.xticks(rotation=0)\n",
        "plt.legend([\"Haven't Disease\", \"Have Disease\"])\n",
        "plt.ylabel('Stroke')\n",
        "plt.show()"
      ],
      "metadata": {
        "colab": {
          "base_uri": "https://localhost:8080/",
          "height": 406
        },
        "id": "EB1fEdU1LwqZ",
        "outputId": "b2e4b427-332f-4329-91ee-bb02d952e2d9"
      },
      "execution_count": 33,
      "outputs": [
        {
          "output_type": "display_data",
          "data": {
            "text/plain": [
              "<Figure size 1080x432 with 1 Axes>"
            ],
            "image/png": "[encoded data removed]"
          },
          "metadata": {
            "needs_background": "light"
          }
        }
      ]
    },
    {
      "cell_type": "markdown",
      "source": [
        "Из графика видно что инсульт встречается у осуществляющих какую-либо рабочую деятельность пациентов."
      ],
      "metadata": {
        "id": "vHrcFXg6MLsM"
      }
    },
    {
      "cell_type": "markdown",
      "source": [
        "# Замена пропусков"
      ],
      "metadata": {
        "id": "hx8vV7D5JZPZ"
      }
    },
    {
      "cell_type": "markdown",
      "source": [
        "Проверяем общее количество пропущенных значений."
      ],
      "metadata": {
        "id": "GuuP4s4WJYHR"
      }
    },
    {
      "cell_type": "code",
      "source": [
        "df.isnull().sum()"
      ],
      "metadata": {
        "colab": {
          "base_uri": "https://localhost:8080/",
          "height": 0
        },
        "id": "pzVdCHElHkYP",
        "outputId": "fda0759b-6a91-4178-9ed1-3b36e24cdcfc"
      },
      "execution_count": 34,
      "outputs": [
        {
          "output_type": "execute_result",
          "data": {
            "text/plain": [
              "id                     0\n",
              "gender                 0\n",
              "age                    0\n",
              "hypertension           0\n",
              "heart_disease          0\n",
              "ever_married           0\n",
              "work_type              0\n",
              "Residence_type         0\n",
              "avg_glucose_level      0\n",
              "bmi                  201\n",
              "smoking_status         0\n",
              "stroke                 0\n",
              "dtype: int64"
            ]
          },
          "metadata": {},
          "execution_count": 34
        }
      ]
    },
    {
      "cell_type": "markdown",
      "source": [
        "Присутствуют пропуски в поле индекса массы тела. Необходимо заполнить пропуски. В данном случае будет использована медиана."
      ],
      "metadata": {
        "id": "-DhuW-u2Je3y"
      }
    },
    {
      "cell_type": "code",
      "source": [
        "df['bmi'] = df['bmi'].fillna(df['bmi'].median())"
      ],
      "metadata": {
        "id": "ggDaf0KiMywi"
      },
      "execution_count": 48,
      "outputs": []
    },
    {
      "cell_type": "code",
      "source": [
        "df.isnull().sum()"
      ],
      "metadata": {
        "colab": {
          "base_uri": "https://localhost:8080/",
          "height": 0
        },
        "id": "408sK5iBM3I4",
        "outputId": "b36c0c49-485d-4902-bbe1-1397ed7421b3"
      },
      "execution_count": 49,
      "outputs": [
        {
          "output_type": "execute_result",
          "data": {
            "text/plain": [
              "id                   0\n",
              "gender               0\n",
              "age                  0\n",
              "hypertension         0\n",
              "heart_disease        0\n",
              "ever_married         0\n",
              "work_type            0\n",
              "Residence_type       0\n",
              "avg_glucose_level    0\n",
              "bmi                  0\n",
              "smoking_status       0\n",
              "stroke               0\n",
              "dtype: int64"
            ]
          },
          "metadata": {},
          "execution_count": 49
        }
      ]
    },
    {
      "cell_type": "markdown",
      "source": [
        "#Корреляция признаков"
      ],
      "metadata": {
        "id": "Tedym287Ksjn"
      }
    },
    {
      "cell_type": "code",
      "source": [
        "sns.heatmap(df.corr(), annot=True, cmap='RdYlGn')\n",
        "fig = plt.gcf()\n",
        "fig.set_size_inches(10, 5)\n",
        "plt.show()"
      ],
      "metadata": {
        "colab": {
          "base_uri": "https://localhost:8080/",
          "height": 404
        },
        "id": "eKcyZYcqJdEB",
        "outputId": "42a5b192-528e-4c5e-bc79-2d803e6d600a"
      },
      "execution_count": 50,
      "outputs": [
        {
          "output_type": "display_data",
          "data": {
            "text/plain": [
              "<Figure size 720x360 with 2 Axes>"
            ],
            "image/png": "[encoded data removed]"
          },
          "metadata": {
            "needs_background": "light"
          }
        }
      ]
    },
    {
      "cell_type": "markdown",
      "source": [
        "#Feature Engineering"
      ],
      "metadata": {
        "id": "YB0mgCh-7DzL"
      }
    },
    {
      "cell_type": "markdown",
      "source": [
        "Удаление ненужных признаков"
      ],
      "metadata": {
        "id": "rMSL8Be47ISe"
      }
    },
    {
      "cell_type": "markdown",
      "source": [
        "Удалим порядковый номер экземпляра, он не несет никакого смысла в качестве признака для обучения модели."
      ],
      "metadata": {
        "id": "xJFP2Ytb7LLL"
      }
    },
    {
      "cell_type": "code",
      "source": [
        "df.drop(['id'], axis=1, inplace=True)"
      ],
      "metadata": {
        "id": "UKeyJ1XVKvlX"
      },
      "execution_count": 51,
      "outputs": []
    },
    {
      "cell_type": "code",
      "source": [
        "sns.heatmap(df.corr(), annot=True, cmap='RdYlGn', linewidths=0.2, annot_kws={'size':10})\n",
        "fig = plt.gcf()\n",
        "fig.set_size_inches(15, 10)\n",
        "plt.xticks(fontsize=14)\n",
        "plt.yticks(fontsize=14)\n",
        "plt.show()"
      ],
      "metadata": {
        "colab": {
          "base_uri": "https://localhost:8080/",
          "height": 713
        },
        "id": "a5F4HsiZ7Vhx",
        "outputId": "b91cb6ee-02db-40dc-b87b-a2888bc6bcbf"
      },
      "execution_count": 52,
      "outputs": [
        {
          "output_type": "display_data",
          "data": {
            "text/plain": [
              "<Figure size 1080x720 with 2 Axes>"
            ],
            "image/png": "[encoded data removed]"
          },
          "metadata": {
            "needs_background": "light"
          }
        }
      ]
    },
    {
      "cell_type": "markdown",
      "source": [
        "На данный момент в бОльшей части цивилизованного мира деление происходит на 2 гендера. В данном случае можно или удалить этот объект, или отнести его к одному из гендерных классов."
      ],
      "metadata": {
        "id": "fUMuQZy3cVSu"
      }
    },
    {
      "cell_type": "code",
      "source": [
        "df['gender'].value_counts()"
      ],
      "metadata": {
        "colab": {
          "base_uri": "https://localhost:8080/",
          "height": 0
        },
        "id": "FEu7c0Z2b5cu",
        "outputId": "1adb513b-9ede-4689-c95c-c48eef1a2b77"
      },
      "execution_count": 53,
      "outputs": [
        {
          "output_type": "execute_result",
          "data": {
            "text/plain": [
              "Female    2994\n",
              "Male      2115\n",
              "Other        1\n",
              "Name: gender, dtype: int64"
            ]
          },
          "metadata": {},
          "execution_count": 53
        }
      ]
    },
    {
      "cell_type": "code",
      "source": [
        "df.loc[df['gender'] == 'Other', 'gender'] = 'Male'\n",
        "df['gender'].value_counts()"
      ],
      "metadata": {
        "colab": {
          "base_uri": "https://localhost:8080/",
          "height": 0
        },
        "id": "v3fWfQTjb8mQ",
        "outputId": "d63e5eeb-2d23-4f07-8bee-2b8d61908bf8"
      },
      "execution_count": 56,
      "outputs": [
        {
          "output_type": "execute_result",
          "data": {
            "text/plain": [
              "Female    2994\n",
              "Male      2116\n",
              "Name: gender, dtype: int64"
            ]
          },
          "metadata": {},
          "execution_count": 56
        }
      ]
    },
    {
      "cell_type": "markdown",
      "source": [
        "Преобразование категориальных признаков"
      ],
      "metadata": {
        "id": "xnggv0S8OzeG"
      }
    },
    {
      "cell_type": "markdown",
      "source": [
        "Закодируем категориальные признаки gender, ever_married, work_type, Residence_type и smoking_status."
      ],
      "metadata": {
        "id": "ZYkoacIxPpKO"
      }
    },
    {
      "cell_type": "code",
      "source": [
        "gender_dum = pd.get_dummies(df['gender'], prefix = \"gender\")\n",
        "ever_married_dum = pd.get_dummies(df['ever_married'], prefix = \"ever_married\")\n",
        "work_type_dum = pd.get_dummies(df['work_type'], prefix = \"work_type\")\n",
        "Residence_type_dum = pd.get_dummies(df['Residence_type'], prefix = \"Residence_type\")\n",
        "smoking_status_dum = pd.get_dummies(df['smoking_status'], prefix = \"smoking_status\")\n",
        "\n",
        "frames = [df, gender_dum, ever_married_dum, work_type_dum, Residence_type_dum, smoking_status_dum]\n",
        "df = pd.concat(frames, axis = 1)\n",
        "df.head()"
      ],
      "metadata": {
        "colab": {
          "base_uri": "https://localhost:8080/",
          "height": 352
        },
        "id": "eguXcOqwO0VM",
        "outputId": "5f5ed13a-ff10-4d5b-8b90-7a281b735d62"
      },
      "execution_count": 57,
      "outputs": [
        {
          "output_type": "execute_result",
          "data": {
            "text/plain": [
              "   gender   age  hypertension  heart_disease ever_married      work_type  \\\n",
              "0    Male  67.0             0              1          Yes        Private   \n",
              "1  Female  61.0             0              0          Yes  Self-employed   \n",
              "2    Male  80.0             0              1          Yes        Private   \n",
              "3  Female  49.0             0              0          Yes        Private   \n",
              "4  Female  79.0             1              0          Yes  Self-employed   \n",
              "\n",
              "  Residence_type  avg_glucose_level   bmi   smoking_status  ...  \\\n",
              "0          Urban             228.69  36.6  formerly smoked  ...   \n",
              "1          Rural             202.21  28.1     never smoked  ...   \n",
              "2          Rural             105.92  32.5     never smoked  ...   \n",
              "3          Urban             171.23  34.4           smokes  ...   \n",
              "4          Rural             174.12  24.0     never smoked  ...   \n",
              "\n",
              "   work_type_Never_worked  work_type_Private  work_type_Self-employed  \\\n",
              "0                       0                  1                        0   \n",
              "1                       0                  0                        1   \n",
              "2                       0                  1                        0   \n",
              "3                       0                  1                        0   \n",
              "4                       0                  0                        1   \n",
              "\n",
              "   work_type_children  Residence_type_Rural  Residence_type_Urban  \\\n",
              "0                   0                     0                     1   \n",
              "1                   0                     1                     0   \n",
              "2                   0                     1                     0   \n",
              "3                   0                     0                     1   \n",
              "4                   0                     1                     0   \n",
              "\n",
              "   smoking_status_Unknown  smoking_status_formerly smoked  \\\n",
              "0                       0                               1   \n",
              "1                       0                               0   \n",
              "2                       0                               0   \n",
              "3                       0                               0   \n",
              "4                       0                               0   \n",
              "\n",
              "   smoking_status_never smoked  smoking_status_smokes  \n",
              "0                            0                      0  \n",
              "1                            1                      0  \n",
              "2                            1                      0  \n",
              "3                            0                      1  \n",
              "4                            1                      0  \n",
              "\n",
              "[5 rows x 26 columns]"
            ],
            "text/html": [
              "\n",
              "  <div id=\"df-37b1ffbc-1b3b-4ad7-acfc-b91f3a2019e8\">\n",
              "    <div class=\"colab-df-container\">\n",
              "      <div>\n",
              "<style scoped>\n",
              "    .dataframe tbody tr th:only-of-type {\n",
              "        vertical-align: middle;\n",
              "    }\n",
              "\n",
              "    .dataframe tbody tr th {\n",
              "        vertical-align: top;\n",
              "    }\n",
              "\n",
              "    .dataframe thead th {\n",
              "        text-align: right;\n",
              "    }\n",
              "</style>\n",
              "<table border=\"1\" class=\"dataframe\">\n",
              "  <thead>\n",
              "    <tr style=\"text-align: right;\">\n",
              "      <th></th>\n",
              "      <th>gender</th>\n",
              "      <th>age</th>\n",
              "      <th>hypertension</th>\n",
              "      <th>heart_disease</th>\n",
              "      <th>ever_married</th>\n",
              "      <th>work_type</th>\n",
              "      <th>Residence_type</th>\n",
              "      <th>avg_glucose_level</th>\n",
              "      <th>bmi</th>\n",
              "      <th>smoking_status</th>\n",
              "      <th>...</th>\n",
              "      <th>work_type_Never_worked</th>\n",
              "      <th>work_type_Private</th>\n",
              "      <th>work_type_Self-employed</th>\n",
              "      <th>work_type_children</th>\n",
              "      <th>Residence_type_Rural</th>\n",
              "      <th>Residence_type_Urban</th>\n",
              "      <th>smoking_status_Unknown</th>\n",
              "      <th>smoking_status_formerly smoked</th>\n",
              "      <th>smoking_status_never smoked</th>\n",
              "      <th>smoking_status_smokes</th>\n",
              "    </tr>\n",
              "  </thead>\n",
              "  <tbody>\n",
              "    <tr>\n",
              "      <th>0</th>\n",
              "      <td>Male</td>\n",
              "      <td>67.0</td>\n",
              "      <td>0</td>\n",
              "      <td>1</td>\n",
              "      <td>Yes</td>\n",
              "      <td>Private</td>\n",
              "      <td>Urban</td>\n",
              "      <td>228.69</td>\n",
              "      <td>36.6</td>\n",
              "      <td>formerly smoked</td>\n",
              "      <td>...</td>\n",
              "      <td>0</td>\n",
              "      <td>1</td>\n",
              "      <td>0</td>\n",
              "      <td>0</td>\n",
              "      <td>0</td>\n",
              "      <td>1</td>\n",
              "      <td>0</td>\n",
              "      <td>1</td>\n",
              "      <td>0</td>\n",
              "      <td>0</td>\n",
              "    </tr>\n",
              "    <tr>\n",
              "      <th>1</th>\n",
              "      <td>Female</td>\n",
              "      <td>61.0</td>\n",
              "      <td>0</td>\n",
              "      <td>0</td>\n",
              "      <td>Yes</td>\n",
              "      <td>Self-employed</td>\n",
              "      <td>Rural</td>\n",
              "      <td>202.21</td>\n",
              "      <td>28.1</td>\n",
              "      <td>never smoked</td>\n",
              "      <td>...</td>\n",
              "      <td>0</td>\n",
              "      <td>0</td>\n",
              "      <td>1</td>\n",
              "      <td>0</td>\n",
              "      <td>1</td>\n",
              "      <td>0</td>\n",
              "      <td>0</td>\n",
              "      <td>0</td>\n",
              "      <td>1</td>\n",
              "      <td>0</td>\n",
              "    </tr>\n",
              "    <tr>\n",
              "      <th>2</th>\n",
              "      <td>Male</td>\n",
              "      <td>80.0</td>\n",
              "      <td>0</td>\n",
              "      <td>1</td>\n",
              "      <td>Yes</td>\n",
              "      <td>Private</td>\n",
              "      <td>Rural</td>\n",
              "      <td>105.92</td>\n",
              "      <td>32.5</td>\n",
              "      <td>never smoked</td>\n",
              "      <td>...</td>\n",
              "      <td>0</td>\n",
              "      <td>1</td>\n",
              "      <td>0</td>\n",
              "      <td>0</td>\n",
              "      <td>1</td>\n",
              "      <td>0</td>\n",
              "      <td>0</td>\n",
              "      <td>0</td>\n",
              "      <td>1</td>\n",
              "      <td>0</td>\n",
              "    </tr>\n",
              "    <tr>\n",
              "      <th>3</th>\n",
              "      <td>Female</td>\n",
              "      <td>49.0</td>\n",
              "      <td>0</td>\n",
              "      <td>0</td>\n",
              "      <td>Yes</td>\n",
              "      <td>Private</td>\n",
              "      <td>Urban</td>\n",
              "      <td>171.23</td>\n",
              "      <td>34.4</td>\n",
              "      <td>smokes</td>\n",
              "      <td>...</td>\n",
              "      <td>0</td>\n",
              "      <td>1</td>\n",
              "      <td>0</td>\n",
              "      <td>0</td>\n",
              "      <td>0</td>\n",
              "      <td>1</td>\n",
              "      <td>0</td>\n",
              "      <td>0</td>\n",
              "      <td>0</td>\n",
              "      <td>1</td>\n",
              "    </tr>\n",
              "    <tr>\n",
              "      <th>4</th>\n",
              "      <td>Female</td>\n",
              "      <td>79.0</td>\n",
              "      <td>1</td>\n",
              "      <td>0</td>\n",
              "      <td>Yes</td>\n",
              "      <td>Self-employed</td>\n",
              "      <td>Rural</td>\n",
              "      <td>174.12</td>\n",
              "      <td>24.0</td>\n",
              "      <td>never smoked</td>\n",
              "      <td>...</td>\n",
              "      <td>0</td>\n",
              "      <td>0</td>\n",
              "      <td>1</td>\n",
              "      <td>0</td>\n",
              "      <td>1</td>\n",
              "      <td>0</td>\n",
              "      <td>0</td>\n",
              "      <td>0</td>\n",
              "      <td>1</td>\n",
              "      <td>0</td>\n",
              "    </tr>\n",
              "  </tbody>\n",
              "</table>\n",
              "<p>5 rows × 26 columns</p>\n",
              "</div>\n",
              "      <button class=\"colab-df-convert\" onclick=\"convertToInteractive('df-37b1ffbc-1b3b-4ad7-acfc-b91f3a2019e8')\"\n",
              "              title=\"Convert this dataframe to an interactive table.\"\n",
              "              style=\"display:none;\">\n",
              "        \n",
              "  <svg xmlns=\"http://www.w3.org/2000/svg\" height=\"24px\"viewBox=\"0 0 24 24\"\n",
              "       width=\"24px\">\n",
              "    <path d=\"M0 0h24v24H0V0z\" fill=\"none\"/>\n",
              "    <path d=\"M18.56 5.44l.94 2.06.94-2.06 2.06-.94-2.06-.94-.94-2.06-.94 2.06-2.06.94zm-11 1L8.5 8.5l.94-2.06 2.06-.94-2.06-.94L8.5 2.5l-.94 2.06-2.06.94zm10 10l.94 2.06.94-2.06 2.06-.94-2.06-.94-.94-2.06-.94 2.06-2.06.94z\"/><path d=\"M17.41 7.96l-1.37-1.37c-.4-.4-.92-.59-1.43-.59-.52 0-1.04.2-1.43.59L10.3 9.45l-7.72 7.72c-.78.78-.78 2.05 0 2.83L4 21.41c.39.39.9.59 1.41.59.51 0 1.02-.2 1.41-.59l7.78-7.78 2.81-2.81c.8-.78.8-2.07 0-2.86zM5.41 20L4 18.59l7.72-7.72 1.47 1.35L5.41 20z\"/>\n",
              "  </svg>\n",
              "      </button>\n",
              "      \n",
              "  <style>\n",
              "    .colab-df-container {\n",
              "      display:flex;\n",
              "      flex-wrap:wrap;\n",
              "      gap: 12px;\n",
              "    }\n",
              "\n",
              "    .colab-df-convert {\n",
              "      background-color: #E8F0FE;\n",
              "      border: none;\n",
              "      border-radius: 50%;\n",
              "      cursor: pointer;\n",
              "      display: none;\n",
              "      fill: #1967D2;\n",
              "      height: 32px;\n",
              "      padding: 0 0 0 0;\n",
              "      width: 32px;\n",
              "    }\n",
              "\n",
              "    .colab-df-convert:hover {\n",
              "      background-color: #E2EBFA;\n",
              "      box-shadow: 0px 1px 2px rgba(60, 64, 67, 0.3), 0px 1px 3px 1px rgba(60, 64, 67, 0.15);\n",
              "      fill: #174EA6;\n",
              "    }\n",
              "\n",
              "    [theme=dark] .colab-df-convert {\n",
              "      background-color: #3B4455;\n",
              "      fill: #D2E3FC;\n",
              "    }\n",
              "\n",
              "    [theme=dark] .colab-df-convert:hover {\n",
              "      background-color: #434B5C;\n",
              "      box-shadow: 0px 1px 3px 1px rgba(0, 0, 0, 0.15);\n",
              "      filter: drop-shadow(0px 1px 2px rgba(0, 0, 0, 0.3));\n",
              "      fill: #FFFFFF;\n",
              "    }\n",
              "  </style>\n",
              "\n",
              "      <script>\n",
              "        const buttonEl =\n",
              "          document.querySelector('#df-37b1ffbc-1b3b-4ad7-acfc-b91f3a2019e8 button.colab-df-convert');\n",
              "        buttonEl.style.display =\n",
              "          google.colab.kernel.accessAllowed ? 'block' : 'none';\n",
              "\n",
              "        async function convertToInteractive(key) {\n",
              "          const element = document.querySelector('#df-37b1ffbc-1b3b-4ad7-acfc-b91f3a2019e8');\n",
              "          const dataTable =\n",
              "            await google.colab.kernel.invokeFunction('convertToInteractive',\n",
              "                                                     [key], {});\n",
              "          if (!dataTable) return;\n",
              "\n",
              "          const docLinkHtml = 'Like what you see? Visit the ' +\n",
              "            '<a target=\"_blank\" href=https://colab.research.google.com/notebooks/data_table.ipynb>data table notebook</a>'\n",
              "            + ' to learn more about interactive tables.';\n",
              "          element.innerHTML = '';\n",
              "          dataTable['output_type'] = 'display_data';\n",
              "          await google.colab.output.renderOutput(dataTable, element);\n",
              "          const docLink = document.createElement('div');\n",
              "          docLink.innerHTML = docLinkHtml;\n",
              "          element.appendChild(docLink);\n",
              "        }\n",
              "      </script>\n",
              "    </div>\n",
              "  </div>\n",
              "  "
            ]
          },
          "metadata": {},
          "execution_count": 57
        }
      ]
    },
    {
      "cell_type": "code",
      "source": [
        "df = df.drop(columns = ['gender', 'ever_married', 'work_type', 'Residence_type', 'smoking_status'])\n",
        "df.head()"
      ],
      "metadata": {
        "colab": {
          "base_uri": "https://localhost:8080/",
          "height": 317
        },
        "id": "IJvrWmdQPkSb",
        "outputId": "cff7a2db-c2fa-4f29-8770-96bb080bcc2b"
      },
      "execution_count": 58,
      "outputs": [
        {
          "output_type": "execute_result",
          "data": {
            "text/plain": [
              "    age  hypertension  heart_disease  avg_glucose_level   bmi  stroke  \\\n",
              "0  67.0             0              1             228.69  36.6       1   \n",
              "1  61.0             0              0             202.21  28.1       1   \n",
              "2  80.0             0              1             105.92  32.5       1   \n",
              "3  49.0             0              0             171.23  34.4       1   \n",
              "4  79.0             1              0             174.12  24.0       1   \n",
              "\n",
              "   gender_Female  gender_Male  ever_married_No  ever_married_Yes  ...  \\\n",
              "0              0            1                0                 1  ...   \n",
              "1              1            0                0                 1  ...   \n",
              "2              0            1                0                 1  ...   \n",
              "3              1            0                0                 1  ...   \n",
              "4              1            0                0                 1  ...   \n",
              "\n",
              "   work_type_Never_worked  work_type_Private  work_type_Self-employed  \\\n",
              "0                       0                  1                        0   \n",
              "1                       0                  0                        1   \n",
              "2                       0                  1                        0   \n",
              "3                       0                  1                        0   \n",
              "4                       0                  0                        1   \n",
              "\n",
              "   work_type_children  Residence_type_Rural  Residence_type_Urban  \\\n",
              "0                   0                     0                     1   \n",
              "1                   0                     1                     0   \n",
              "2                   0                     1                     0   \n",
              "3                   0                     0                     1   \n",
              "4                   0                     1                     0   \n",
              "\n",
              "   smoking_status_Unknown  smoking_status_formerly smoked  \\\n",
              "0                       0                               1   \n",
              "1                       0                               0   \n",
              "2                       0                               0   \n",
              "3                       0                               0   \n",
              "4                       0                               0   \n",
              "\n",
              "   smoking_status_never smoked  smoking_status_smokes  \n",
              "0                            0                      0  \n",
              "1                            1                      0  \n",
              "2                            1                      0  \n",
              "3                            0                      1  \n",
              "4                            1                      0  \n",
              "\n",
              "[5 rows x 21 columns]"
            ],
            "text/html": [
              "\n",
              "  <div id=\"df-20f679e2-37e1-42e0-8f46-979a4a4f27da\">\n",
              "    <div class=\"colab-df-container\">\n",
              "      <div>\n",
              "<style scoped>\n",
              "    .dataframe tbody tr th:only-of-type {\n",
              "        vertical-align: middle;\n",
              "    }\n",
              "\n",
              "    .dataframe tbody tr th {\n",
              "        vertical-align: top;\n",
              "    }\n",
              "\n",
              "    .dataframe thead th {\n",
              "        text-align: right;\n",
              "    }\n",
              "</style>\n",
              "<table border=\"1\" class=\"dataframe\">\n",
              "  <thead>\n",
              "    <tr style=\"text-align: right;\">\n",
              "      <th></th>\n",
              "      <th>age</th>\n",
              "      <th>hypertension</th>\n",
              "      <th>heart_disease</th>\n",
              "      <th>avg_glucose_level</th>\n",
              "      <th>bmi</th>\n",
              "      <th>stroke</th>\n",
              "      <th>gender_Female</th>\n",
              "      <th>gender_Male</th>\n",
              "      <th>ever_married_No</th>\n",
              "      <th>ever_married_Yes</th>\n",
              "      <th>...</th>\n",
              "      <th>work_type_Never_worked</th>\n",
              "      <th>work_type_Private</th>\n",
              "      <th>work_type_Self-employed</th>\n",
              "      <th>work_type_children</th>\n",
              "      <th>Residence_type_Rural</th>\n",
              "      <th>Residence_type_Urban</th>\n",
              "      <th>smoking_status_Unknown</th>\n",
              "      <th>smoking_status_formerly smoked</th>\n",
              "      <th>smoking_status_never smoked</th>\n",
              "      <th>smoking_status_smokes</th>\n",
              "    </tr>\n",
              "  </thead>\n",
              "  <tbody>\n",
              "    <tr>\n",
              "      <th>0</th>\n",
              "      <td>67.0</td>\n",
              "      <td>0</td>\n",
              "      <td>1</td>\n",
              "      <td>228.69</td>\n",
              "      <td>36.6</td>\n",
              "      <td>1</td>\n",
              "      <td>0</td>\n",
              "      <td>1</td>\n",
              "      <td>0</td>\n",
              "      <td>1</td>\n",
              "      <td>...</td>\n",
              "      <td>0</td>\n",
              "      <td>1</td>\n",
              "      <td>0</td>\n",
              "      <td>0</td>\n",
              "      <td>0</td>\n",
              "      <td>1</td>\n",
              "      <td>0</td>\n",
              "      <td>1</td>\n",
              "      <td>0</td>\n",
              "      <td>0</td>\n",
              "    </tr>\n",
              "    <tr>\n",
              "      <th>1</th>\n",
              "      <td>61.0</td>\n",
              "      <td>0</td>\n",
              "      <td>0</td>\n",
              "      <td>202.21</td>\n",
              "      <td>28.1</td>\n",
              "      <td>1</td>\n",
              "      <td>1</td>\n",
              "      <td>0</td>\n",
              "      <td>0</td>\n",
              "      <td>1</td>\n",
              "      <td>...</td>\n",
              "      <td>0</td>\n",
              "      <td>0</td>\n",
              "      <td>1</td>\n",
              "      <td>0</td>\n",
              "      <td>1</td>\n",
              "      <td>0</td>\n",
              "      <td>0</td>\n",
              "      <td>0</td>\n",
              "      <td>1</td>\n",
              "      <td>0</td>\n",
              "    </tr>\n",
              "    <tr>\n",
              "      <th>2</th>\n",
              "      <td>80.0</td>\n",
              "      <td>0</td>\n",
              "      <td>1</td>\n",
              "      <td>105.92</td>\n",
              "      <td>32.5</td>\n",
              "      <td>1</td>\n",
              "      <td>0</td>\n",
              "      <td>1</td>\n",
              "      <td>0</td>\n",
              "      <td>1</td>\n",
              "      <td>...</td>\n",
              "      <td>0</td>\n",
              "      <td>1</td>\n",
              "      <td>0</td>\n",
              "      <td>0</td>\n",
              "      <td>1</td>\n",
              "      <td>0</td>\n",
              "      <td>0</td>\n",
              "      <td>0</td>\n",
              "      <td>1</td>\n",
              "      <td>0</td>\n",
              "    </tr>\n",
              "    <tr>\n",
              "      <th>3</th>\n",
              "      <td>49.0</td>\n",
              "      <td>0</td>\n",
              "      <td>0</td>\n",
              "      <td>171.23</td>\n",
              "      <td>34.4</td>\n",
              "      <td>1</td>\n",
              "      <td>1</td>\n",
              "      <td>0</td>\n",
              "      <td>0</td>\n",
              "      <td>1</td>\n",
              "      <td>...</td>\n",
              "      <td>0</td>\n",
              "      <td>1</td>\n",
              "      <td>0</td>\n",
              "      <td>0</td>\n",
              "      <td>0</td>\n",
              "      <td>1</td>\n",
              "      <td>0</td>\n",
              "      <td>0</td>\n",
              "      <td>0</td>\n",
              "      <td>1</td>\n",
              "    </tr>\n",
              "    <tr>\n",
              "      <th>4</th>\n",
              "      <td>79.0</td>\n",
              "      <td>1</td>\n",
              "      <td>0</td>\n",
              "      <td>174.12</td>\n",
              "      <td>24.0</td>\n",
              "      <td>1</td>\n",
              "      <td>1</td>\n",
              "      <td>0</td>\n",
              "      <td>0</td>\n",
              "      <td>1</td>\n",
              "      <td>...</td>\n",
              "      <td>0</td>\n",
              "      <td>0</td>\n",
              "      <td>1</td>\n",
              "      <td>0</td>\n",
              "      <td>1</td>\n",
              "      <td>0</td>\n",
              "      <td>0</td>\n",
              "      <td>0</td>\n",
              "      <td>1</td>\n",
              "      <td>0</td>\n",
              "    </tr>\n",
              "  </tbody>\n",
              "</table>\n",
              "<p>5 rows × 21 columns</p>\n",
              "</div>\n",
              "      <button class=\"colab-df-convert\" onclick=\"convertToInteractive('df-20f679e2-37e1-42e0-8f46-979a4a4f27da')\"\n",
              "              title=\"Convert this dataframe to an interactive table.\"\n",
              "              style=\"display:none;\">\n",
              "        \n",
              "  <svg xmlns=\"http://www.w3.org/2000/svg\" height=\"24px\"viewBox=\"0 0 24 24\"\n",
              "       width=\"24px\">\n",
              "    <path d=\"M0 0h24v24H0V0z\" fill=\"none\"/>\n",
              "    <path d=\"M18.56 5.44l.94 2.06.94-2.06 2.06-.94-2.06-.94-.94-2.06-.94 2.06-2.06.94zm-11 1L8.5 8.5l.94-2.06 2.06-.94-2.06-.94L8.5 2.5l-.94 2.06-2.06.94zm10 10l.94 2.06.94-2.06 2.06-.94-2.06-.94-.94-2.06-.94 2.06-2.06.94z\"/><path d=\"M17.41 7.96l-1.37-1.37c-.4-.4-.92-.59-1.43-.59-.52 0-1.04.2-1.43.59L10.3 9.45l-7.72 7.72c-.78.78-.78 2.05 0 2.83L4 21.41c.39.39.9.59 1.41.59.51 0 1.02-.2 1.41-.59l7.78-7.78 2.81-2.81c.8-.78.8-2.07 0-2.86zM5.41 20L4 18.59l7.72-7.72 1.47 1.35L5.41 20z\"/>\n",
              "  </svg>\n",
              "      </button>\n",
              "      \n",
              "  <style>\n",
              "    .colab-df-container {\n",
              "      display:flex;\n",
              "      flex-wrap:wrap;\n",
              "      gap: 12px;\n",
              "    }\n",
              "\n",
              "    .colab-df-convert {\n",
              "      background-color: #E8F0FE;\n",
              "      border: none;\n",
              "      border-radius: 50%;\n",
              "      cursor: pointer;\n",
              "      display: none;\n",
              "      fill: #1967D2;\n",
              "      height: 32px;\n",
              "      padding: 0 0 0 0;\n",
              "      width: 32px;\n",
              "    }\n",
              "\n",
              "    .colab-df-convert:hover {\n",
              "      background-color: #E2EBFA;\n",
              "      box-shadow: 0px 1px 2px rgba(60, 64, 67, 0.3), 0px 1px 3px 1px rgba(60, 64, 67, 0.15);\n",
              "      fill: #174EA6;\n",
              "    }\n",
              "\n",
              "    [theme=dark] .colab-df-convert {\n",
              "      background-color: #3B4455;\n",
              "      fill: #D2E3FC;\n",
              "    }\n",
              "\n",
              "    [theme=dark] .colab-df-convert:hover {\n",
              "      background-color: #434B5C;\n",
              "      box-shadow: 0px 1px 3px 1px rgba(0, 0, 0, 0.15);\n",
              "      filter: drop-shadow(0px 1px 2px rgba(0, 0, 0, 0.3));\n",
              "      fill: #FFFFFF;\n",
              "    }\n",
              "  </style>\n",
              "\n",
              "      <script>\n",
              "        const buttonEl =\n",
              "          document.querySelector('#df-20f679e2-37e1-42e0-8f46-979a4a4f27da button.colab-df-convert');\n",
              "        buttonEl.style.display =\n",
              "          google.colab.kernel.accessAllowed ? 'block' : 'none';\n",
              "\n",
              "        async function convertToInteractive(key) {\n",
              "          const element = document.querySelector('#df-20f679e2-37e1-42e0-8f46-979a4a4f27da');\n",
              "          const dataTable =\n",
              "            await google.colab.kernel.invokeFunction('convertToInteractive',\n",
              "                                                     [key], {});\n",
              "          if (!dataTable) return;\n",
              "\n",
              "          const docLinkHtml = 'Like what you see? Visit the ' +\n",
              "            '<a target=\"_blank\" href=https://colab.research.google.com/notebooks/data_table.ipynb>data table notebook</a>'\n",
              "            + ' to learn more about interactive tables.';\n",
              "          element.innerHTML = '';\n",
              "          dataTable['output_type'] = 'display_data';\n",
              "          await google.colab.output.renderOutput(dataTable, element);\n",
              "          const docLink = document.createElement('div');\n",
              "          docLink.innerHTML = docLinkHtml;\n",
              "          element.appendChild(docLink);\n",
              "        }\n",
              "      </script>\n",
              "    </div>\n",
              "  </div>\n",
              "  "
            ]
          },
          "metadata": {},
          "execution_count": 58
        }
      ]
    },
    {
      "cell_type": "code",
      "source": [
        "df.info()"
      ],
      "metadata": {
        "colab": {
          "base_uri": "https://localhost:8080/",
          "height": 0
        },
        "id": "UaEiP9K0QmXt",
        "outputId": "7e61b658-ff65-4fab-c30a-7f86a2295fb8"
      },
      "execution_count": 59,
      "outputs": [
        {
          "output_type": "stream",
          "name": "stdout",
          "text": [
            "<class 'pandas.core.frame.DataFrame'>\n",
            "RangeIndex: 5110 entries, 0 to 5109\n",
            "Data columns (total 21 columns):\n",
            " #   Column                          Non-Null Count  Dtype  \n",
            "---  ------                          --------------  -----  \n",
            " 0   age                             5110 non-null   float64\n",
            " 1   hypertension                    5110 non-null   int64  \n",
            " 2   heart_disease                   5110 non-null   int64  \n",
            " 3   avg_glucose_level               5110 non-null   float64\n",
            " 4   bmi                             5110 non-null   float64\n",
            " 5   stroke                          5110 non-null   int64  \n",
            " 6   gender_Female                   5110 non-null   uint8  \n",
            " 7   gender_Male                     5110 non-null   uint8  \n",
            " 8   ever_married_No                 5110 non-null   uint8  \n",
            " 9   ever_married_Yes                5110 non-null   uint8  \n",
            " 10  work_type_Govt_job              5110 non-null   uint8  \n",
            " 11  work_type_Never_worked          5110 non-null   uint8  \n",
            " 12  work_type_Private               5110 non-null   uint8  \n",
            " 13  work_type_Self-employed         5110 non-null   uint8  \n",
            " 14  work_type_children              5110 non-null   uint8  \n",
            " 15  Residence_type_Rural            5110 non-null   uint8  \n",
            " 16  Residence_type_Urban            5110 non-null   uint8  \n",
            " 17  smoking_status_Unknown          5110 non-null   uint8  \n",
            " 18  smoking_status_formerly smoked  5110 non-null   uint8  \n",
            " 19  smoking_status_never smoked     5110 non-null   uint8  \n",
            " 20  smoking_status_smokes           5110 non-null   uint8  \n",
            "dtypes: float64(3), int64(3), uint8(15)\n",
            "memory usage: 314.5 KB\n"
          ]
        }
      ]
    },
    {
      "cell_type": "markdown",
      "source": [
        "# Разбиение данных с использованием train_test_split и масштабирование"
      ],
      "metadata": {
        "id": "d4MGmigMQuKu"
      }
    },
    {
      "cell_type": "code",
      "source": [
        "y = df['stroke']\n",
        "X = df.drop(columns=['stroke'])\n",
        "\n",
        "X_train, X_test, y_train, y_test = train_test_split(X, y, test_size = 0.25, random_state=42)\n",
        "\n",
        "scaler = StandardScaler()  # воспользуемся стандартным трансформером\n",
        "\n",
        "# масштабируем обучающую выборку и запоминаем среднее, стандартное отклонение признаков\n",
        "X_train_scaled = scaler.fit_transform(X_train)\n",
        "\n",
        "# масштабируем тестовую выборку используя статистики обучающей выборки\n",
        "X_test_scaled = scaler.transform(X_test)"
      ],
      "metadata": {
        "id": "ht5sb0xbQmx6"
      },
      "execution_count": 61,
      "outputs": []
    },
    {
      "cell_type": "markdown",
      "source": [
        "# Обучение модели с подбором гиперпараметров"
      ],
      "metadata": {
        "id": "AgHi0GXtS6pw"
      }
    },
    {
      "cell_type": "code",
      "source": [
        "accuracies = {}"
      ],
      "metadata": {
        "id": "s0ASbE3TYXz_"
      },
      "execution_count": 62,
      "outputs": []
    },
    {
      "cell_type": "code",
      "source": [
        "k = [1, 2, 3, 5, 7, 10]"
      ],
      "metadata": {
        "id": "pHyBqxNmKsFQ"
      },
      "execution_count": 63,
      "outputs": []
    },
    {
      "cell_type": "code",
      "source": [
        "y_pred = selection_k(X_train_scaled, y_train, X_test_scaled, k)"
      ],
      "metadata": {
        "colab": {
          "base_uri": "https://localhost:8080/",
          "height": 0
        },
        "id": "lHJnuKEESyeB",
        "outputId": "c085f27f-4ef8-4929-da76-d4f80fe0e49e"
      },
      "execution_count": 64,
      "outputs": [
        {
          "output_type": "stream",
          "name": "stdout",
          "text": [
            "Точность алгоритма при k = 1: 0.908\n",
            "Точность алгоритма при k = 2: 0.876\n",
            "Точность алгоритма при k = 3: 0.936\n",
            "Точность алгоритма при k = 5: 0.935\n",
            "Точность алгоритма при k = 7: 0.934\n",
            "Точность алгоритма при k = 10: 0.937\n"
          ]
        }
      ]
    },
    {
      "cell_type": "code",
      "source": [
        "accuracies['KNN_my_version'] = y_pred\n",
        "print(\"KNN_my_version Test Accuracy {:.4f}\".format(y_pred))"
      ],
      "metadata": {
        "colab": {
          "base_uri": "https://localhost:8080/",
          "height": 0
        },
        "id": "hWk6OsGyYQkX",
        "outputId": "9ceda4ac-9676-48a3-c86d-ffef10153862"
      },
      "execution_count": 65,
      "outputs": [
        {
          "output_type": "stream",
          "name": "stdout",
          "text": [
            "KNN_my_version Test Accuracy 0.9366\n"
          ]
        }
      ]
    },
    {
      "cell_type": "markdown",
      "source": [
        "# Библиотечные реализации (из sklearn) методов классификации (logistic regression, svm, knn, naive bayes, decision tree)."
      ],
      "metadata": {
        "id": "380eFSlQZ_Mz"
      }
    },
    {
      "cell_type": "code",
      "source": [
        "methods_clf = [LogisticRegression(), KNeighborsClassifier(), SVC(), GaussianNB(), DecisionTreeClassifier()]"
      ],
      "metadata": {
        "id": "T8KbFnXX-81g"
      },
      "execution_count": 66,
      "outputs": []
    },
    {
      "cell_type": "markdown",
      "source": [],
      "metadata": {
        "id": "flL5NW6dbxGK"
      }
    },
    {
      "cell_type": "markdown",
      "source": [
        "## Logistic Regression"
      ],
      "metadata": {
        "id": "I72xJdM7cB7I"
      }
    },
    {
      "cell_type": "code",
      "source": [
        "lr = LogisticRegression()\n",
        "lr.fit(X_train_scaled, y_train)\n",
        "acc = lr.score(X_test_scaled, y_test)\n",
        "\n",
        "accuracies['Logistic Regression'] = acc\n",
        "print(\"Test Accuracy {:.4f}\".format(acc))"
      ],
      "metadata": {
        "colab": {
          "base_uri": "https://localhost:8080/",
          "height": 0
        },
        "id": "K2x85sO2bAZA",
        "outputId": "25dfc53b-a059-4c42-887c-49c346bf8360"
      },
      "execution_count": 67,
      "outputs": [
        {
          "output_type": "stream",
          "name": "stdout",
          "text": [
            "Test Accuracy 0.9382\n"
          ]
        }
      ]
    },
    {
      "cell_type": "markdown",
      "source": [
        "Выберем оптимальное количество признаков кросс-валидацией с помощью RFECV"
      ],
      "metadata": {
        "id": "Z309n50U2jXB"
      }
    },
    {
      "cell_type": "code",
      "source": [
        "# отберём с помощью RFE 5 признаков\n",
        "estimator=LogisticRegression()\n",
        "selector = RFE(estimator, n_features_to_select=5, step=1)\n",
        "selector = selector.fit(X_train, y_train)\n",
        "# выведем эти 5 признаков\n",
        "print('Selected features: %s' % list(X_train.columns[selector.support_]))"
      ],
      "metadata": {
        "colab": {
          "base_uri": "https://localhost:8080/",
          "height": 0
        },
        "id": "-7DKydxS8SQh",
        "outputId": "3bc029a4-a1cc-4698-c211-359e1b09cbcc"
      },
      "execution_count": 68,
      "outputs": [
        {
          "output_type": "stream",
          "name": "stdout",
          "text": [
            "Selected features: ['hypertension', 'heart_disease', 'ever_married_No', 'ever_married_Yes', 'work_type_children']\n"
          ]
        }
      ]
    },
    {
      "cell_type": "code",
      "source": [
        "rfecv = RFECV(estimator=LogisticRegression(), step=1, cv=5, scoring='accuracy')\n",
        "rfecv = rfecv.fit(X_train, y_train)\n",
        "\n",
        "selected_features = list(X_train.columns[rfecv.support_])\n",
        "\n",
        "print(\"Optimal number of features: %d\" % rfecv.n_features_)\n",
        "print('Selected features: %s' % selected_features)\n",
        "\n",
        "plt.figure(figsize=(10,6))\n",
        "plt.xlabel(\"Number of features selected\")\n",
        "plt.ylabel(\"Cross validation score (nb of correct classifications)\")\n",
        "plt.plot(range(1, len(rfecv.grid_scores_) + 1), rfecv.grid_scores_)\n",
        "plt.show()"
      ],
      "metadata": {
        "colab": {
          "base_uri": "https://localhost:8080/",
          "height": 423
        },
        "id": "wm7puDFs2h3Y",
        "outputId": "e3e0d016-afad-4cdf-f804-ef5c5961cf21"
      },
      "execution_count": 69,
      "outputs": [
        {
          "output_type": "stream",
          "name": "stdout",
          "text": [
            "Optimal number of features: 1\n",
            "Selected features: ['work_type_children']\n"
          ]
        },
        {
          "output_type": "display_data",
          "data": {
            "text/plain": [
              "<Figure size 720x432 with 1 Axes>"
            ],
            "image/png": "[encoded data removed]"
          },
          "metadata": {
            "needs_background": "light"
          }
        }
      ]
    },
    {
      "cell_type": "code",
      "source": [
        "X_logreg = df[selected_features]\n",
        "X_train_logregr, X_test_logregr, y_train_logregr, y_test_logregr = train_test_split(X_logreg, y, test_size = 0.25, random_state=42) # уже с отобранными признаками\n",
        "# масштабируем обучающую выборку и запоминаем среднее, стандартное отклонение признаков\n",
        "X_train_scaled_logregr = scaler.fit_transform(X_train_logregr)\n",
        "# масштабируем тестовую выборку используя статистики обучающей выборки\n",
        "X_test_scaled_logregr = scaler.transform(X_test_logregr)\n",
        "logreg = LogisticRegression()\n",
        "logreg.fit(X_train_scaled_logregr, y_train_logregr)\n",
        "y_pred = logreg.predict(X_test_scaled_logregr)\n",
        "y_pred_proba = logreg.predict_proba(X_test_scaled_logregr)[:, 1]  # предсказываем вероятность по классам\n",
        "[fpr, tpr, thr] = roc_curve(y_test_logregr, y_pred_proba)\n",
        "print('Train/Test split results:')\n",
        "print(logreg.__class__.__name__+\" accuracy is %2.3f\" % accuracy_score(y_test_logregr, y_pred))\n",
        "print(logreg.__class__.__name__+\" log_loss is %2.3f\" % log_loss(y_test_logregr, y_pred_proba))\n",
        "print(logreg.__class__.__name__+\" auc is %2.3f\" % auc(fpr, tpr))\n",
        "\n",
        "idx = np.min(np.where(tpr > 0.95)) # индекс первого threshold с tpr > 0.95\n",
        "\n",
        "plt.figure()\n",
        "plt.plot(fpr, tpr, color='coral', label='ROC curve (area = %0.3f)' % auc(fpr, tpr))\n",
        "plt.plot([0, 1], [0, 1], 'k--')\n",
        "plt.plot([0,fpr[idx]], [tpr[idx],tpr[idx]], 'k--', color='blue')\n",
        "plt.plot([fpr[idx],fpr[idx]], [0,tpr[idx]], 'k--', color='blue')\n",
        "plt.xlim([0.0, 1.0])\n",
        "plt.ylim([0.0, 1.05])\n",
        "plt.xlabel('False Positive Rate (1 - specificity)', fontsize=14)\n",
        "plt.ylabel('True Positive Rate (recall)', fontsize=14)\n",
        "plt.title('Receiver operating characteristic (ROC) curve')\n",
        "plt.legend(loc=\"lower right\")\n",
        "plt.show()\n",
        "\n",
        "print(\"Using a threshold of %.3f \" % thr[idx] + \"guarantees a sensitivity of %.3f \" % tpr[idx] +  \n",
        "      \"and a specificity of %.3f\" % (1-fpr[idx]) + \n",
        "      \", i.e. a false positive rate of %.2f%%.\" % (np.array(fpr[idx])*100))"
      ],
      "metadata": {
        "colab": {
          "base_uri": "https://localhost:8080/",
          "height": 386
        },
        "id": "ikJJKHC09fo_",
        "outputId": "7c68e302-4c5b-4193-9e21-24ba3a19f837"
      },
      "execution_count": 70,
      "outputs": [
        {
          "output_type": "stream",
          "name": "stdout",
          "text": [
            "Train/Test split results:\n",
            "LogisticRegression accuracy is 0.937\n",
            "LogisticRegression log_loss is 0.229\n",
            "LogisticRegression auc is 0.579\n"
          ]
        },
        {
          "output_type": "display_data",
          "data": {
            "text/plain": [
              "<Figure size 432x288 with 1 Axes>"
            ],
            "image/png": "[encoded data removed]"
          },
          "metadata": {
            "needs_background": "light"
          }
        },
        {
          "output_type": "stream",
          "name": "stdout",
          "text": [
            "Using a threshold of 0.050 guarantees a sensitivity of 1.000 and a specificity of 0.158, i.e. a false positive rate of 84.22%.\n"
          ]
        }
      ]
    },
    {
      "cell_type": "code",
      "source": [
        "scores_accuracy = cross_val_score(lr, X_train_scaled_logregr, y_train_logregr, cv=5, scoring='accuracy')\n",
        "scores_log_loss = cross_val_score(lr, X_train_scaled_logregr, y_train_logregr, cv=5, scoring='neg_log_loss')\n",
        "scores_auc = cross_val_score(lr, X_train_scaled_logregr, y_train_logregr, cv=5, scoring='roc_auc')\n",
        "print('K-fold cross-validation results:')\n",
        "print(logreg.__class__.__name__+\" average accuracy is %2.3f\" % scores_accuracy.mean())\n",
        "print(logreg.__class__.__name__+\" average log_loss is %2.3f\" % -scores_log_loss.mean())\n",
        "print(logreg.__class__.__name__+\" average auc is %2.3f\" % scores_auc.mean())"
      ],
      "metadata": {
        "colab": {
          "base_uri": "https://localhost:8080/",
          "height": 0
        },
        "id": "lShfmog87Z9W",
        "outputId": "7d7f392a-952b-40e4-ce44-9fdc2818becc"
      },
      "execution_count": 71,
      "outputs": [
        {
          "output_type": "stream",
          "name": "stdout",
          "text": [
            "K-fold cross-validation results:\n",
            "LogisticRegression average accuracy is 0.956\n",
            "LogisticRegression average log_loss is 0.177\n",
            "LogisticRegression average auc is 0.562\n"
          ]
        }
      ]
    },
    {
      "cell_type": "markdown",
      "source": [
        "Подбор гиперпараметров с помощью GridSearchCV + multiple scorers"
      ],
      "metadata": {
        "id": "d6ncooPBT8kB"
      }
    },
    {
      "cell_type": "markdown",
      "source": [
        "Обучаем модель с CV и ищем по сетке гиперпараметр C (чем меньше C тем больше регуляризация)."
      ],
      "metadata": {
        "id": "Mmz-8kmzUH1T"
      }
    },
    {
      "cell_type": "code",
      "source": [
        "param_grid = {'C': np.arange(1e-05, 5, 0.1)}\n",
        "scoring = {'Accuracy': 'accuracy', 'AUC': 'roc_auc', 'Log_loss': 'neg_log_loss'}\n",
        "\n",
        "gs = GridSearchCV(LogisticRegression(), return_train_score=True,\n",
        "                  param_grid=param_grid, scoring=scoring, cv=5, refit='Accuracy')\n",
        "\n",
        "gs.fit(X_train_scaled_logregr, y_train_logregr)\n",
        "results = gs.cv_results_\n",
        "\n",
        "print('='*20)\n",
        "print(\"best estimator: \" + str(gs.best_estimator_))\n",
        "print(\"best params: \" + str(gs.best_params_))\n",
        "print('best score:', gs.best_score_)\n",
        "print('='*20)\n",
        "\n",
        "plt.figure(figsize=(13, 10))\n",
        "plt.title(\"GridSearchCV evaluating using multiple scorers simultaneously\",fontsize=16)\n",
        "\n",
        "plt.xlabel(\"Inverse of regularization strength: C\")\n",
        "plt.ylabel(\"Score\")\n",
        "plt.grid()\n",
        "\n",
        "ax = plt.gca()\n",
        "ax.set_xlim(0, param_grid['C'].max()) \n",
        "ax.set_ylim(0.35, 0.95)\n",
        "\n",
        "X_axis = np.array(results['param_C'].data, dtype=float)\n",
        "\n",
        "for scorer, color in zip(list(scoring.keys()), ['g', 'k', 'b']): \n",
        "    for sample, style in (('train', '--'), ('test', '-')):\n",
        "        sample_score_mean = -results['mean_%s_%s' % (sample, scorer)] if scoring[scorer]=='neg_log_loss' else results['mean_%s_%s' % (sample, scorer)]\n",
        "        sample_score_std = results['std_%s_%s' % (sample, scorer)]\n",
        "        ax.fill_between(X_axis, sample_score_mean - sample_score_std,\n",
        "                        sample_score_mean + sample_score_std,\n",
        "                        alpha=0.1 if sample == 'test' else 0, color=color)\n",
        "        ax.plot(X_axis, sample_score_mean, style, color=color,\n",
        "                alpha=1 if sample == 'test' else 0.7,\n",
        "                label=\"%s (%s)\" % (scorer, sample))\n",
        "\n",
        "    best_index = np.nonzero(results['rank_test_%s' % scorer] == 1)[0][0]\n",
        "    best_score = -results['mean_test_%s' % scorer][best_index] if scoring[scorer]=='neg_log_loss' else results['mean_test_%s' % scorer][best_index]\n",
        "        \n",
        "    # Plot a dotted vertical line at the best score for that scorer marked by x\n",
        "    ax.plot([X_axis[best_index], ] * 2, [0, best_score],\n",
        "            linestyle='-.', color=color, marker='x', markeredgewidth=3, ms=8)\n",
        "\n",
        "    # Annotate the best score for that scorer\n",
        "    ax.annotate(\"%0.2f\" % best_score,\n",
        "                (X_axis[best_index], best_score + 0.005))\n",
        "\n",
        "plt.legend(loc=\"best\")\n",
        "plt.grid('off')\n",
        "plt.show()"
      ],
      "metadata": {
        "colab": {
          "base_uri": "https://localhost:8080/",
          "height": 834
        },
        "id": "pTTPJnT-T-bJ",
        "outputId": "7c3345f4-6617-46a5-8034-1580cc0f3216"
      },
      "execution_count": 72,
      "outputs": [
        {
          "output_type": "stream",
          "name": "stdout",
          "text": [
            "====================\n",
            "best estimator: LogisticRegression(C=1e-05)\n",
            "best params: {'C': 1e-05}\n",
            "best score: 0.9558978216985917\n",
            "====================\n"
          ]
        },
        {
          "output_type": "display_data",
          "data": {
            "text/plain": [
              "<Figure size 936x720 with 1 Axes>"
            ],
            "image/png": "[encoded data removed]"
          },
          "metadata": {
            "needs_background": "light"
          }
        }
      ]
    },
    {
      "cell_type": "markdown",
      "source": [
        "GridSearchCV + multiple scorers + RepeatedStratifiedKFold + pipeline\n",
        "Поиск по сетке с помощью CV, повторяющийся несколько раз, с масштабированием и различными scorers. StratifiedKFold позволяет разделять выборки с сохранением соотношения объектов каждого класса (стратифицированно)."
      ],
      "metadata": {
        "id": "G3To_IWuUyqf"
      }
    },
    {
      "cell_type": "code",
      "source": [
        "model_accuracies = {}  # сюда будем сохранять качество натренированных моделей"
      ],
      "metadata": {
        "id": "RG7Lgj31V7jp"
      },
      "execution_count": 73,
      "outputs": []
    },
    {
      "cell_type": "code",
      "source": [
        "from sklearn.preprocessing import StandardScaler\n",
        "from sklearn.model_selection import RepeatedStratifiedKFold\n",
        "from sklearn.pipeline import Pipeline\n",
        "\n",
        "C = np.arange(1e-05, 5, 0.1)\n",
        "\n",
        "scoring = {'Accuracy': 'accuracy', 'AUC': 'roc_auc', 'Log_loss': 'neg_log_loss'}\n",
        "\n",
        "log_reg = LogisticRegression(random_state=11)\n",
        "\n",
        "std_scale = StandardScaler()\n",
        "\n",
        "n_folds=5\n",
        "n_repeats=5\n",
        "\n",
        "rskfold = RepeatedStratifiedKFold(n_splits=n_folds, n_repeats=n_repeats, random_state=42)\n",
        "\n",
        "log_clf_pipe = Pipeline(steps=[('scale',std_scale), ('clf',log_reg)])\n",
        "\n",
        "log_clf = GridSearchCV(estimator=log_clf_pipe, cv=rskfold,\n",
        "              scoring=scoring, return_train_score=True,\n",
        "              param_grid=dict(clf__C=C), refit='Accuracy')\n",
        "\n",
        "log_clf.fit(X_train_logregr, y_train_logregr)\n",
        "results = log_clf.cv_results_\n",
        "\n",
        "\n",
        "print('='*80)\n",
        "print(\"best estimator: \" + str(log_clf.best_estimator_))\n",
        "print(\"best params: \" + str(log_clf.best_params_))\n",
        "print('best score:', log_clf.best_score_)\n",
        "model_accuracies['Logistic Regression'] = log_clf.score(X_test_logregr, y_test_logregr)\n",
        "print(\"test score:\", model_accuracies['Logistic Regression'])\n",
        "#print(\"test score:\", accuracy_score(y_test_logregr, log_clf.best_estimator_.predict(X_test_logregr))) # другой способ\n",
        "print('='*80)"
      ],
      "metadata": {
        "colab": {
          "base_uri": "https://localhost:8080/",
          "height": 0
        },
        "id": "u3b__KhwU2km",
        "outputId": "09b6871a-75a6-4922-e2b8-884c10f8d2d7"
      },
      "execution_count": 74,
      "outputs": [
        {
          "output_type": "stream",
          "name": "stdout",
          "text": [
            "================================================================================\n",
            "best estimator: Pipeline(steps=[('scale', StandardScaler()),\n",
            "                ('clf', LogisticRegression(C=1e-05, random_state=11))])\n",
            "best params: {'clf__C': 1e-05}\n",
            "best score: 0.9558978216985916\n",
            "test score: 0.9374021909233177\n",
            "================================================================================\n"
          ]
        }
      ]
    },
    {
      "cell_type": "code",
      "source": [
        "print(\"Accuracy of Logistic Regression: {:.4f}\".format(model_accuracies['Logistic Regression']))"
      ],
      "metadata": {
        "colab": {
          "base_uri": "https://localhost:8080/",
          "height": 0
        },
        "id": "8V2DJpZwVNqa",
        "outputId": "182dde94-607e-46ad-d84c-6506897f1255"
      },
      "execution_count": 75,
      "outputs": [
        {
          "output_type": "stream",
          "name": "stdout",
          "text": [
            "Accuracy of Logistic Regression: 0.9374\n"
          ]
        }
      ]
    },
    {
      "cell_type": "markdown",
      "source": [
        "## K-Nearest Neighbour (KNN) Classification"
      ],
      "metadata": {
        "id": "pEV0Q2jnb9RA"
      }
    },
    {
      "cell_type": "code",
      "source": [
        "knn = KNeighborsClassifier(n_neighbors = 1)  # n_neighbors means k\n",
        "knn.fit(X_train_scaled, y_train)\n",
        "prediction = knn.predict(X_test_scaled)\n",
        "\n",
        "print(\"{} NN Score: {:.4f}\".format(3, knn.score(X_test_scaled, y_test)))"
      ],
      "metadata": {
        "colab": {
          "base_uri": "https://localhost:8080/",
          "height": 0
        },
        "id": "m9XypUNeaAPT",
        "outputId": "b07e6ecf-4762-47d3-8e4b-371c532758a2"
      },
      "execution_count": 76,
      "outputs": [
        {
          "output_type": "stream",
          "name": "stdout",
          "text": [
            "3 NN Score: 0.9163\n"
          ]
        }
      ]
    },
    {
      "cell_type": "code",
      "source": [
        "scoreList = []\n",
        "for i in range(1, 20):\n",
        "    knn2 = KNeighborsClassifier(n_neighbors = i)\n",
        "    knn2.fit(X_train_scaled, y_train)\n",
        "    scoreList.append(knn2.score(X_test_scaled, y_test))\n",
        "    \n",
        "plt.plot(range(1, 20), scoreList)\n",
        "plt.xticks(np.arange(1, 20))\n",
        "plt.xlabel(\"K value\")\n",
        "plt.ylabel(\"Score\")\n",
        "plt.show()\n",
        "\n",
        "acc = max(scoreList)\n",
        "accuracies['KNN'] = acc\n",
        "print(\"Maximum KNN Score is {:.4f}\".format(acc))"
      ],
      "metadata": {
        "colab": {
          "base_uri": "https://localhost:8080/",
          "height": 299
        },
        "id": "Dx6NaNR7aw3y",
        "outputId": "22133e4d-bbe6-46b6-e403-4be3c50aafa8"
      },
      "execution_count": 77,
      "outputs": [
        {
          "output_type": "display_data",
          "data": {
            "text/plain": [
              "<Figure size 432x288 with 1 Axes>"
            ],
            "image/png": "[encoded data removed]"
          },
          "metadata": {
            "needs_background": "light"
          }
        },
        {
          "output_type": "stream",
          "name": "stdout",
          "text": [
            "Maximum KNN Score is 0.9390\n"
          ]
        }
      ]
    },
    {
      "cell_type": "markdown",
      "source": [
        "## Support Vector Machine (SVM)"
      ],
      "metadata": {
        "id": "9h_GYFMKb3Hd"
      }
    },
    {
      "cell_type": "code",
      "source": [
        "svm = SVC(random_state = 12)\n",
        "svm.fit(X_train_scaled, y_train)\n",
        "\n",
        "acc = svm.score(X_test_scaled, y_test)\n",
        "accuracies['SVM'] = acc\n",
        "print(\"Test Accuracy of SVM Algorithm: {:.4f}\".format(acc))"
      ],
      "metadata": {
        "colab": {
          "base_uri": "https://localhost:8080/",
          "height": 0
        },
        "id": "mw2o73xqbVl3",
        "outputId": "13ba7488-cc79-416f-e02f-d52dc7990f4d"
      },
      "execution_count": 78,
      "outputs": [
        {
          "output_type": "stream",
          "name": "stdout",
          "text": [
            "Test Accuracy of SVM Algorithm: 0.9374\n"
          ]
        }
      ]
    },
    {
      "cell_type": "markdown",
      "source": [
        "## Naive Bayes Algorithm"
      ],
      "metadata": {
        "id": "CCk8FSwfcEK_"
      }
    },
    {
      "cell_type": "code",
      "source": [
        "nb = GaussianNB()\n",
        "nb.fit(X_train_scaled, y_train)\n",
        "\n",
        "acc = nb.score(X_test_scaled, y_test)\n",
        "accuracies['Naive Bayes'] = acc\n",
        "print(\"Accuracy of Naive Bayes: {:.4f}\".format(acc))"
      ],
      "metadata": {
        "colab": {
          "base_uri": "https://localhost:8080/",
          "height": 0
        },
        "id": "HIZqWnsacIIF",
        "outputId": "949d29e8-9d18-432c-f5f4-a7d86acdf297"
      },
      "execution_count": 79,
      "outputs": [
        {
          "output_type": "stream",
          "name": "stdout",
          "text": [
            "Accuracy of Naive Bayes: 0.3412\n"
          ]
        }
      ]
    },
    {
      "cell_type": "markdown",
      "source": [
        "## Decision Tree Algorithm"
      ],
      "metadata": {
        "id": "qemWxC6McUSk"
      }
    },
    {
      "cell_type": "code",
      "source": [
        "dtc = DecisionTreeClassifier()\n",
        "dtc.fit(X_train, y_train)\n",
        "\n",
        "acc = dtc.score(X_test, y_test)\n",
        "accuracies['Decision Tree'] = acc\n",
        "print(\"Decision Tree Test Accuracy {:.4f}\".format(acc))"
      ],
      "metadata": {
        "colab": {
          "base_uri": "https://localhost:8080/",
          "height": 0
        },
        "id": "UEndHZtecVNp",
        "outputId": "a04e999b-02ea-4abb-aca4-7454be6d8855"
      },
      "execution_count": 80,
      "outputs": [
        {
          "output_type": "stream",
          "name": "stdout",
          "text": [
            "Decision Tree Test Accuracy 0.9006\n"
          ]
        }
      ]
    },
    {
      "cell_type": "markdown",
      "source": [
        "## Comparing Models"
      ],
      "metadata": {
        "id": "eoHcInR4dMkP"
      }
    },
    {
      "cell_type": "code",
      "source": [
        "colors = [\"purple\", \"green\", \"orange\", \"yellow\", \"blue\", \"red\"]\n",
        "\n",
        "sns.set_style(\"whitegrid\")\n",
        "plt.figure(figsize=(16, 5))\n",
        "plt.yticks(np.arange(0, 1.1, 0.1))\n",
        "plt.ylabel(\"Accuracy\")\n",
        "plt.xlabel(\"Algorithms\")\n",
        "sns.barplot(x=list(accuracies.keys()), y=list(accuracies.values()), palette=colors)\n",
        "plt.show()"
      ],
      "metadata": {
        "colab": {
          "base_uri": "https://localhost:8080/",
          "height": 335
        },
        "id": "_26GBu43c6Qt",
        "outputId": "6562fdf4-af77-4cb2-96b7-2584b689f999"
      },
      "execution_count": 81,
      "outputs": [
        {
          "output_type": "display_data",
          "data": {
            "text/plain": [
              "<Figure size 1152x360 with 1 Axes>"
            ],
            "image/png": "[encoded data removed]"
          },
          "metadata": {}
        }
      ]
    },
    {
      "cell_type": "markdown",
      "source": [
        "## Confusion Matrix"
      ],
      "metadata": {
        "id": "RCCl_m2tdHqn"
      }
    },
    {
      "cell_type": "code",
      "source": [
        "# Predicted values\n",
        "y_head_lr = lr.predict(X_test_scaled)\n",
        "knn3 = KNeighborsClassifier(n_neighbors = 1)\n",
        "knn3.fit(X_train_scaled, y_train)\n",
        "y_head_knn = knn3.predict(X_test_scaled)\n",
        "y_head_svm = svm.predict(X_test_scaled)\n",
        "y_head_nb = nb.predict(X_test_scaled)\n",
        "y_head_dtc = dtc.predict(X_test)"
      ],
      "metadata": {
        "id": "Pvet1Mr0dIzc"
      },
      "execution_count": 82,
      "outputs": []
    },
    {
      "cell_type": "code",
      "source": [
        "from sklearn.metrics import confusion_matrix\n",
        "\n",
        "cm_lr = confusion_matrix(y_test, y_head_lr)\n",
        "cm_knn = confusion_matrix(y_test, y_head_knn)\n",
        "cm_svm = confusion_matrix(y_test, y_head_svm)\n",
        "cm_nb = confusion_matrix(y_test, y_head_nb)\n",
        "cm_dtc = confusion_matrix(y_test, y_head_dtc)"
      ],
      "metadata": {
        "id": "nu-EDpqRdq7n"
      },
      "execution_count": 83,
      "outputs": []
    },
    {
      "cell_type": "code",
      "source": [
        "cm = [cm_lr, cm_knn, cm_svm, cm_nb, cm_dtc]"
      ],
      "metadata": {
        "id": "eMHAlm0kd2Mz"
      },
      "execution_count": 84,
      "outputs": []
    },
    {
      "cell_type": "code",
      "source": [
        "names = [\"Logistic Regression Confusion Matrix\", \"K Nearest Neighbors Confusion Matrix\", \"Support Vector Machine Confusion Matrix\",\n",
        "         \"Naive Bayes Confusion Matrix\", \"Decision Tree Classifier Confusion Matrix\"]"
      ],
      "metadata": {
        "id": "vmqn_qXJevZo"
      },
      "execution_count": 85,
      "outputs": []
    },
    {
      "cell_type": "code",
      "source": [
        "plt.figure(figsize=(24, 12))\n",
        "\n",
        "plt.suptitle(\"Confusion Matrices\", fontsize=24)\n",
        "plt.subplots_adjust(wspace = 0.4, hspace= 0.4)\n",
        "\n",
        "plt.subplot(2,3,1)\n",
        "plt.title(\"Logistic Regression Confusion Matrix\")\n",
        "sns.heatmap(cm_lr,annot=True,cmap=\"Blues\",fmt=\"d\",cbar=False, annot_kws={\"size\": 24})\n",
        "\n",
        "plt.subplot(2,3,2)\n",
        "plt.title(\"K Nearest Neighbors Confusion Matrix\")\n",
        "sns.heatmap(cm_knn,annot=True,cmap=\"Blues\",fmt=\"d\",cbar=False, annot_kws={\"size\": 24})\n",
        "\n",
        "plt.subplot(2,3,3)\n",
        "plt.title(\"Support Vector Machine Confusion Matrix\")\n",
        "sns.heatmap(cm_svm,annot=True,cmap=\"Blues\",fmt=\"d\",cbar=False, annot_kws={\"size\": 24})\n",
        "\n",
        "plt.subplot(2,3,4)\n",
        "plt.title(\"Naive Bayes Confusion Matrix\")\n",
        "sns.heatmap(cm_nb,annot=True,cmap=\"Blues\",fmt=\"d\",cbar=False, annot_kws={\"size\": 24})\n",
        "\n",
        "plt.subplot(2,3,5)\n",
        "plt.title(\"Decision Tree Classifier Confusion Matrix\")\n",
        "sns.heatmap(cm_dtc,annot=True,cmap=\"Blues\",fmt=\"d\",cbar=False, annot_kws={\"size\": 24})\n",
        "\n",
        "plt.show()"
      ],
      "metadata": {
        "colab": {
          "base_uri": "https://localhost:8080/",
          "height": 734
        },
        "id": "5SBm3uXTdrTw",
        "outputId": "1a971691-f5df-4701-fec2-603d93cd8b9d"
      },
      "execution_count": 86,
      "outputs": [
        {
          "output_type": "display_data",
          "data": {
            "text/plain": [
              "<Figure size 1728x864 with 5 Axes>"
            ],
            "image/png": "[encoded data removed]"
          },
          "metadata": {}
        }
      ]
    },
    {
      "cell_type": "markdown",
      "source": [
        "Посчитаем FPR, TPR по каждой модели"
      ],
      "metadata": {
        "id": "TCrDNF7adcDe"
      }
    },
    {
      "cell_type": "code",
      "source": [
        "i=0\n",
        "for c in cm:\n",
        "  TN = c[0][0]\n",
        "  FN = c[1][0]\n",
        "  TP = c[1][1]\n",
        "  FP = c[0][1]\n",
        "\n",
        "  TPR = TP/(TP+FN)\n",
        "  FPR = FP/(FP+TN)\n",
        "  TNR = TN/(FP+TN)\n",
        "  print(names[i])\n",
        "  i += 1\n",
        "  print(TPR, FPR, TNR)"
      ],
      "metadata": {
        "colab": {
          "base_uri": "https://localhost:8080/",
          "height": 0
        },
        "id": "AeFULl51eD-X",
        "outputId": "e027d032-392d-4568-ee1e-4c795899c7f9"
      },
      "execution_count": 87,
      "outputs": [
        {
          "output_type": "stream",
          "name": "stdout",
          "text": [
            "Logistic Regression Confusion Matrix\n",
            "0.0125 0.0 1.0\n",
            "K Nearest Neighbors Confusion Matrix\n",
            "0.075 0.027545909849749584 0.9724540901502504\n",
            "Support Vector Machine Confusion Matrix\n",
            "0.0 0.0 1.0\n",
            "Naive Bayes Confusion Matrix\n",
            "1.0 0.7028380634390651 0.29716193656093487\n",
            "Decision Tree Classifier Confusion Matrix\n",
            "0.125 0.04757929883138564 0.9524207011686143\n"
          ]
        }
      ]
    },
    {
      "cell_type": "markdown",
      "source": [
        "По имеющимся данным, можно сделать вывод, что самой опасной ошибкой для определения наличия сердечно-сосудистых заболевнаий будет ошибка I рода, т.е. признать фактически больного человека здоровым. С этой точки зрения, наилучший результат для прогнозирования итогового результата показал алгоритм Наивный Байес. У него отсутствуют ложноотрицательные результаты. Однако наравне с этим, ошибка II рода имеет гигантское значение, т.е. действительно здоровые люди получат отметку о наличии заболевания что, конечно же, отрицательно влияет на выбор этой модели в качестве решающей. Этот алгоритм обладает низким значением accuracy (правильности).  На втором месте по качеству полученных результатов выходят алгоритмы KNN, Логистическая регрессия и Метод опорных векторов, которые имеют одинаково высокую долю правильности, примерно одинаковое количество ошибок I рода. Однако, у методов Логистической регрессии и опорных векторов отсутствуют ошибки II рода, поэтому их можно назначить наиболее удачно решающими данную задачу.\n",
        "\n"
      ],
      "metadata": {
        "id": "Q7xMFHt6gL7Y"
      }
    },
    {
      "cell_type": "code",
      "source": [
        "def log_loss_and_grad(w, X, target):\n",
        "    m = X.shape[0]\n",
        "    y=(2*target-1)\n",
        "    score=np.dot(X, w.T).flatten()\n",
        "    \n",
        "    # Рассчёт log_loss\n",
        "    loss = np.sum(np.log(1+np.exp(-y*score)))/m \n",
        "    \n",
        "    # Рассчёт градиента\n",
        "    Z=-y/(m*(1+np.exp(y*score)))\n",
        "    grad=Z[np.newaxis, :].dot(X)\n",
        "    return loss, grad\n",
        "\n",
        "\n",
        "def optimize(w, X, y, n_iterations, eta):\n",
        "    #     потери будем записывать в список для отображения в виде графика\n",
        "    losses = []\n",
        "    for i in range(n_iterations):        \n",
        "        loss, grad = log_loss_and_grad(w, X, y)\n",
        "        w = w - eta * grad\n",
        "        losses.append(loss)\n",
        "        \n",
        "    return w, losses\n",
        "\n",
        "def predict(w, X):\n",
        "    y_predicted = np.zeros(X.shape[0])  \n",
        "    score=np.dot(X, w.T).flatten()\n",
        "    Prob = 1/(1+np.exp(-score))\n",
        "    \n",
        "    #     За порог отнесения к тому или иному классу примем вероятность 0.5\n",
        "    y_predicted[Prob>0.5]=1\n",
        "    y_predicted[Prob<=0.5]=0\n",
        "        \n",
        "    return y_predicted"
      ],
      "metadata": {
        "id": "1uD8X6puRkDa"
      },
      "execution_count": 113,
      "outputs": []
    },
    {
      "cell_type": "code",
      "source": [
        "w0 = np.zeros((1, X_train.shape[1]))\n",
        "\n",
        "n_iterations = 1000\n",
        "eta = 0.0001\n",
        "\n",
        "w, losses = optimize(w0, X_train, y_train, n_iterations, eta)\n",
        "\n",
        "y_predicted_test = predict(w, X_test)\n",
        "y_predicted_train = predict(w, X_train)\n",
        "\n",
        "# В качестве меры точности возьмем долю правильных ответов\n",
        "train_accuracy = 100.0 - np.mean(np.abs(y_predicted_train - y_train)*100.0)\n",
        "test_accuracy = 100.0 - np.mean(np.abs(y_predicted_test-y_test)*100.0)\n",
        "\n",
        "print(f\"Итоговый вектор весов w: {w}\")\n",
        "print(f\"Точность на обучающей выборке: {train_accuracy:.3f}\")\n",
        "print(f\"Точность на тестовой выборке: {test_accuracy:.3f}\")"
      ],
      "metadata": {
        "colab": {
          "base_uri": "https://localhost:8080/",
          "height": 0
        },
        "id": "cJHhO1kLTeFO",
        "outputId": "e5befa77-d58e-460a-858f-a0bcae4e6d29"
      },
      "execution_count": 114,
      "outputs": [
        {
          "output_type": "stream",
          "name": "stdout",
          "text": [
            "Итоговый вектор весов w: [[ 1.06973041e-02  6.71449730e-04  5.64958116e-04 -1.60875305e-02\n",
            "  -5.70510114e-02 -1.64623029e-03 -9.29409522e-04 -2.06148281e-03\n",
            "  -5.14157008e-04 -2.84482986e-04 -3.98561001e-05 -1.25567827e-03\n",
            "   8.41155035e-05 -1.07973797e-03 -1.42152486e-03 -1.15411496e-03\n",
            "  -1.43900021e-03  1.88820137e-06 -9.04927381e-04 -2.33600429e-04]]\n",
            "Точность на обучающей выборке: 95.590\n",
            "Точность на тестовой выборке: 93.740\n"
          ]
        }
      ]
    },
    {
      "cell_type": "code",
      "source": [
        "plt.title('Log loss')\n",
        "plt.xlabel('iterations')\n",
        "plt.ylabel('loss')\n",
        "plt.plot(range(len(losses)), losses)"
      ],
      "metadata": {
        "colab": {
          "base_uri": "https://localhost:8080/",
          "height": 312
        },
        "id": "TPd8Vk9GLUnh",
        "outputId": "37931bb7-1531-4285-e305-c39d733e1140"
      },
      "execution_count": 115,
      "outputs": [
        {
          "output_type": "execute_result",
          "data": {
            "text/plain": [
              "[<matplotlib.lines.Line2D at 0x7fac17d1a250>]"
            ]
          },
          "metadata": {},
          "execution_count": 115
        },
        {
          "output_type": "display_data",
          "data": {
            "text/plain": [
              "<Figure size 432x288 with 1 Axes>"
            ],
            "image/png": "[encoded data removed]"
          },
          "metadata": {}
        }
      ]
    },
    {
      "cell_type": "markdown",
      "source": [
        "Из графика видно, что оптимальное значение loss достигается на 900 итерации."
      ],
      "metadata": {
        "id": "bQKd5rnVTL1k"
      }
    },
    {
      "cell_type": "code",
      "source": [
        "accuracies['Logistic_regression_my_version'] = test_accuracy/100"
      ],
      "metadata": {
        "id": "7CgMWgnpY1Wa"
      },
      "execution_count": 116,
      "outputs": []
    },
    {
      "cell_type": "markdown",
      "source": [
        "Comparing Models"
      ],
      "metadata": {
        "id": "Wsy-F4BgkK6w"
      }
    },
    {
      "cell_type": "code",
      "source": [
        "colors = [\"purple\", \"green\", \"orange\", \"yellow\", \"blue\", \"red\", \"black\"]\n",
        "\n",
        "sns.set_style(\"whitegrid\")\n",
        "plt.figure(figsize=(16, 5))\n",
        "plt.yticks(np.arange(0, 1.1, 0.1))\n",
        "plt.ylabel(\"Accuracy\")\n",
        "plt.xlabel(\"Algorithms\")\n",
        "sns.barplot(x=list(accuracies.keys()), y=list(accuracies.values()), palette=colors)\n",
        "plt.show()"
      ],
      "metadata": {
        "colab": {
          "base_uri": "https://localhost:8080/",
          "height": 335
        },
        "id": "PMhCHsIdZae-",
        "outputId": "359089d1-0633-4b3e-b0ed-337000790c77"
      },
      "execution_count": 117,
      "outputs": [
        {
          "output_type": "display_data",
          "data": {
            "text/plain": [
              "<Figure size 1152x360 with 1 Axes>"
            ],
            "image/png": "[encoded data removed]"
          },
          "metadata": {}
        }
      ]
    },
    {
      "cell_type": "markdown",
      "source": [
        "Последняя модель логистической регрессии в самописной реализации показала результаты наравне с пакетной реализацией, поэтому выводы остаются прежними (см. под предыдущим графиком Comparing Models)"
      ],
      "metadata": {
        "id": "bh_kp5mIeiSu"
      }
    }
  ]
}